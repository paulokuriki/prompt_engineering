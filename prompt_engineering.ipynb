{
  "nbformat": 4,
  "nbformat_minor": 0,
  "metadata": {
    "colab": {
      "provenance": [],
      "gpuType": "T4",
      "authorship_tag": "ABX9TyMXoO7PJnPX7GbANfQTz/W+",
      "include_colab_link": true
    },
    "kernelspec": {
      "name": "python3",
      "display_name": "Python 3"
    },
    "language_info": {
      "name": "python"
    },
    "accelerator": "GPU"
  },
  "cells": [
    {
      "cell_type": "markdown",
      "metadata": {
        "id": "view-in-github",
        "colab_type": "text"
      },
      "source": [
        "<a href=\"https://colab.research.google.com/github/paulokuriki/prompt_engineering/blob/main/prompt_engineering.ipynb\" target=\"_parent\"><img src=\"https://colab.research.google.com/assets/colab-badge.svg\" alt=\"Open In Colab\"/></a>"
      ]
    },
    {
      "cell_type": "markdown",
      "source": [
        "# 📑 **Radiology Report Classification with Large Language Models**\n",
        "\n",
        "## **Learning Objectives**\n",
        "\n",
        "By the end of this session, you will be able to:\n",
        "\n",
        "\n",
        "✅ Understand how Large Language Models (LLMs) assist in radiology report classification.  \n",
        "✅ Apply effective prompting techniques for medical report analysis.  \n",
        "✅ Develop specialized classifiers for different radiological findings.  \n",
        "\n",
        "---\n",
        "\n",
        "## **Introduction**\n",
        "Radiologists frequently need to classify reports based on specific findings or conditions. **Large Language Models (LLMs)** can streamline this process, improving efficiency and consistency in medical report classification. This tutorial demonstrates how to leverage LLMs for various classification tasks in radiology.\n",
        "\n",
        "---\n",
        "\n",
        "## **Dataset: Indiana Chest X-ray Collection**\n",
        "This notebook processes the **Indiana Chest X-ray Collection**, a publicly available dataset provided by the **National Library of Medicine (NLM), National Institutes of Health (NIH),** in collaboration with **Indiana University**.\n",
        "\n",
        "### 🎯 **Acknowledgment**\n",
        "- **Dataset Source**: [Open-i (NLM)](https://openi.nlm.nih.gov/)  \n",
        "- **Reference Paper**:  \n",
        "  > **Demner-Fushman D, Kohli MD, Rosenman MB, Shooshan SE, Rodriguez L, Antani S, Thoma GR, McDonald CJ.**  \n",
        "  > *Preparing a collection of radiology examinations for distribution and retrieval.*  \n",
        "  > J Am Med Inform Assoc. 2016 Mar;23(2):304-10.  \n",
        "  > DOI: [10.1093/jamia/ocv080](https://doi.org/10.1093/jamia/ocv080)  \n",
        "  > PMID: [26133894](https://pubmed.ncbi.nlm.nih.gov/26133894/) | PMCID: [PMC5009925](https://www.ncbi.nlm.nih.gov/pmc/articles/PMC5009925/)  "
      ],
      "metadata": {
        "id": "TjB-Gp_irs_p"
      }
    },
    {
      "cell_type": "markdown",
      "source": [
        "## **Setup and Data Loading**\n",
        "To begin, we'll install the required libraries and load the dataset."
      ],
      "metadata": {
        "id": "CUF0mJun0Mlo"
      }
    },
    {
      "cell_type": "code",
      "source": [
        "pip install langchain_openai langchain-ollama"
      ],
      "metadata": {
        "colab": {
          "base_uri": "https://localhost:8080/"
        },
        "collapsed": true,
        "id": "FZq6ldkz0bRc",
        "outputId": "f57aae9a-eb48-4ab7-a75f-f38c4eb465ef"
      },
      "execution_count": 1,
      "outputs": [
        {
          "output_type": "stream",
          "name": "stdout",
          "text": [
            "Collecting langchain_openai\n",
            "  Downloading langchain_openai-0.3.6-py3-none-any.whl.metadata (2.3 kB)\n",
            "Collecting langchain-ollama\n",
            "  Downloading langchain_ollama-0.2.3-py3-none-any.whl.metadata (1.9 kB)\n",
            "Requirement already satisfied: langchain-core<1.0.0,>=0.3.35 in /usr/local/lib/python3.11/dist-packages (from langchain_openai) (0.3.37)\n",
            "Requirement already satisfied: openai<2.0.0,>=1.58.1 in /usr/local/lib/python3.11/dist-packages (from langchain_openai) (1.61.1)\n",
            "Collecting tiktoken<1,>=0.7 (from langchain_openai)\n",
            "  Downloading tiktoken-0.9.0-cp311-cp311-manylinux_2_17_x86_64.manylinux2014_x86_64.whl.metadata (6.7 kB)\n",
            "Collecting ollama<1,>=0.4.4 (from langchain-ollama)\n",
            "  Downloading ollama-0.4.7-py3-none-any.whl.metadata (4.7 kB)\n",
            "Requirement already satisfied: langsmith<0.4,>=0.1.125 in /usr/local/lib/python3.11/dist-packages (from langchain-core<1.0.0,>=0.3.35->langchain_openai) (0.3.8)\n",
            "Requirement already satisfied: tenacity!=8.4.0,<10.0.0,>=8.1.0 in /usr/local/lib/python3.11/dist-packages (from langchain-core<1.0.0,>=0.3.35->langchain_openai) (9.0.0)\n",
            "Requirement already satisfied: jsonpatch<2.0,>=1.33 in /usr/local/lib/python3.11/dist-packages (from langchain-core<1.0.0,>=0.3.35->langchain_openai) (1.33)\n",
            "Requirement already satisfied: PyYAML>=5.3 in /usr/local/lib/python3.11/dist-packages (from langchain-core<1.0.0,>=0.3.35->langchain_openai) (6.0.2)\n",
            "Requirement already satisfied: packaging<25,>=23.2 in /usr/local/lib/python3.11/dist-packages (from langchain-core<1.0.0,>=0.3.35->langchain_openai) (24.2)\n",
            "Requirement already satisfied: typing-extensions>=4.7 in /usr/local/lib/python3.11/dist-packages (from langchain-core<1.0.0,>=0.3.35->langchain_openai) (4.12.2)\n",
            "Requirement already satisfied: pydantic<3.0.0,>=2.5.2 in /usr/local/lib/python3.11/dist-packages (from langchain-core<1.0.0,>=0.3.35->langchain_openai) (2.10.6)\n",
            "Requirement already satisfied: httpx<0.29,>=0.27 in /usr/local/lib/python3.11/dist-packages (from ollama<1,>=0.4.4->langchain-ollama) (0.28.1)\n",
            "Requirement already satisfied: anyio<5,>=3.5.0 in /usr/local/lib/python3.11/dist-packages (from openai<2.0.0,>=1.58.1->langchain_openai) (3.7.1)\n",
            "Requirement already satisfied: distro<2,>=1.7.0 in /usr/local/lib/python3.11/dist-packages (from openai<2.0.0,>=1.58.1->langchain_openai) (1.9.0)\n",
            "Requirement already satisfied: jiter<1,>=0.4.0 in /usr/local/lib/python3.11/dist-packages (from openai<2.0.0,>=1.58.1->langchain_openai) (0.8.2)\n",
            "Requirement already satisfied: sniffio in /usr/local/lib/python3.11/dist-packages (from openai<2.0.0,>=1.58.1->langchain_openai) (1.3.1)\n",
            "Requirement already satisfied: tqdm>4 in /usr/local/lib/python3.11/dist-packages (from openai<2.0.0,>=1.58.1->langchain_openai) (4.67.1)\n",
            "Requirement already satisfied: regex>=2022.1.18 in /usr/local/lib/python3.11/dist-packages (from tiktoken<1,>=0.7->langchain_openai) (2024.11.6)\n",
            "Requirement already satisfied: requests>=2.26.0 in /usr/local/lib/python3.11/dist-packages (from tiktoken<1,>=0.7->langchain_openai) (2.32.3)\n",
            "Requirement already satisfied: idna>=2.8 in /usr/local/lib/python3.11/dist-packages (from anyio<5,>=3.5.0->openai<2.0.0,>=1.58.1->langchain_openai) (3.10)\n",
            "Requirement already satisfied: certifi in /usr/local/lib/python3.11/dist-packages (from httpx<0.29,>=0.27->ollama<1,>=0.4.4->langchain-ollama) (2025.1.31)\n",
            "Requirement already satisfied: httpcore==1.* in /usr/local/lib/python3.11/dist-packages (from httpx<0.29,>=0.27->ollama<1,>=0.4.4->langchain-ollama) (1.0.7)\n",
            "Requirement already satisfied: h11<0.15,>=0.13 in /usr/local/lib/python3.11/dist-packages (from httpcore==1.*->httpx<0.29,>=0.27->ollama<1,>=0.4.4->langchain-ollama) (0.14.0)\n",
            "Requirement already satisfied: jsonpointer>=1.9 in /usr/local/lib/python3.11/dist-packages (from jsonpatch<2.0,>=1.33->langchain-core<1.0.0,>=0.3.35->langchain_openai) (3.0.0)\n",
            "Requirement already satisfied: orjson<4.0.0,>=3.9.14 in /usr/local/lib/python3.11/dist-packages (from langsmith<0.4,>=0.1.125->langchain-core<1.0.0,>=0.3.35->langchain_openai) (3.10.15)\n",
            "Requirement already satisfied: requests-toolbelt<2.0.0,>=1.0.0 in /usr/local/lib/python3.11/dist-packages (from langsmith<0.4,>=0.1.125->langchain-core<1.0.0,>=0.3.35->langchain_openai) (1.0.0)\n",
            "Requirement already satisfied: zstandard<0.24.0,>=0.23.0 in /usr/local/lib/python3.11/dist-packages (from langsmith<0.4,>=0.1.125->langchain-core<1.0.0,>=0.3.35->langchain_openai) (0.23.0)\n",
            "Requirement already satisfied: annotated-types>=0.6.0 in /usr/local/lib/python3.11/dist-packages (from pydantic<3.0.0,>=2.5.2->langchain-core<1.0.0,>=0.3.35->langchain_openai) (0.7.0)\n",
            "Requirement already satisfied: pydantic-core==2.27.2 in /usr/local/lib/python3.11/dist-packages (from pydantic<3.0.0,>=2.5.2->langchain-core<1.0.0,>=0.3.35->langchain_openai) (2.27.2)\n",
            "Requirement already satisfied: charset-normalizer<4,>=2 in /usr/local/lib/python3.11/dist-packages (from requests>=2.26.0->tiktoken<1,>=0.7->langchain_openai) (3.4.1)\n",
            "Requirement already satisfied: urllib3<3,>=1.21.1 in /usr/local/lib/python3.11/dist-packages (from requests>=2.26.0->tiktoken<1,>=0.7->langchain_openai) (2.3.0)\n",
            "Downloading langchain_openai-0.3.6-py3-none-any.whl (54 kB)\n",
            "\u001b[2K   \u001b[90m━━━━━━━━━━━━━━━━━━━━━━━━━━━━━━━━━━━━━━━━\u001b[0m \u001b[32m54.9/54.9 kB\u001b[0m \u001b[31m3.3 MB/s\u001b[0m eta \u001b[36m0:00:00\u001b[0m\n",
            "\u001b[?25hDownloading langchain_ollama-0.2.3-py3-none-any.whl (19 kB)\n",
            "Downloading ollama-0.4.7-py3-none-any.whl (13 kB)\n",
            "Downloading tiktoken-0.9.0-cp311-cp311-manylinux_2_17_x86_64.manylinux2014_x86_64.whl (1.2 MB)\n",
            "\u001b[2K   \u001b[90m━━━━━━━━━━━━━━━━━━━━━━━━━━━━━━━━━━━━━━━━\u001b[0m \u001b[32m1.2/1.2 MB\u001b[0m \u001b[31m35.5 MB/s\u001b[0m eta \u001b[36m0:00:00\u001b[0m\n",
            "\u001b[?25hInstalling collected packages: tiktoken, ollama, langchain_openai, langchain-ollama\n",
            "Successfully installed langchain-ollama-0.2.3 langchain_openai-0.3.6 ollama-0.4.7 tiktoken-0.9.0\n"
          ]
        }
      ]
    },
    {
      "cell_type": "code",
      "source": [
        "import os\n",
        "import getpass\n",
        "import random\n",
        "import json\n",
        "import requests\n",
        "import tarfile\n",
        "import glob\n",
        "import csv\n",
        "import shutil\n",
        "import xml.etree.ElementTree as ET\n",
        "\n",
        "import pandas as pd\n",
        "import numpy as np\n",
        "from matplotlib import pyplot as plt\n",
        "import seaborn as sns\n",
        "from tqdm import tqdm\n",
        "from langchain_openai import ChatOpenAI\n",
        "from langchain_ollama import ChatOllama\n",
        "from IPython.display import HTML, display"
      ],
      "metadata": {
        "id": "69Nv6EbI0JND"
      },
      "execution_count": 2,
      "outputs": []
    },
    {
      "cell_type": "markdown",
      "source": [
        "## **Dataset Processing**\n",
        "### **Steps**\n",
        "1. **Download**: Retrieve the dataset from the official NLM repository.  \n",
        "2. **Extract**: Unpack the `.tgz` archive.  \n",
        "3. **Parse**: Extract the **Findings** section from each radiology report.  \n",
        "4. **Label**: Assign a **normal** or **abnormal** classification based on MeSH (Medical Subject Headings) terms.  \n",
        "5. **Export**: Save the processed data as a **CSV file**.  "
      ],
      "metadata": {
        "id": "89bKsPfRITq5"
      }
    },
    {
      "cell_type": "code",
      "source": [
        "import os\n",
        "import shutil\n",
        "import requests\n",
        "import tarfile\n",
        "import glob\n",
        "import xml.etree.ElementTree as ET\n",
        "import csv\n",
        "import pandas as pd\n",
        "from tqdm import tqdm\n",
        "\n",
        "# Define URLs and paths\n",
        "TGZ_URL = \"https://openi.nlm.nih.gov/imgs/collections/NLMCXR_reports.tgz\"\n",
        "TGZ_FILE = \"NLMCXR_reports.tgz\"\n",
        "EXTRACT_DIR = \"NLMCXR_reports_extracted\"\n",
        "XML_FOLDER = os.path.join(EXTRACT_DIR, \"ecgen-radiology\")\n",
        "OUTPUT_CSV = \"converted_reports.csv\"\n",
        "\n",
        "def run_with_feedback(func, description):\n",
        "    \"\"\"Run a function with feedback messages.\"\"\"\n",
        "    print(f\"\\n🔄 {description}...\")\n",
        "    func()\n",
        "    print(f\"✅ {description} completed successfully!\\n\")\n",
        "\n",
        "def clean_up():\n",
        "    \"\"\"Remove old files and directories if they exist.\"\"\"\n",
        "    if os.path.exists(TGZ_FILE):\n",
        "        os.remove(TGZ_FILE)\n",
        "    if os.path.exists(EXTRACT_DIR):\n",
        "        shutil.rmtree(EXTRACT_DIR)\n",
        "    if os.path.exists(OUTPUT_CSV):\n",
        "        os.remove(OUTPUT_CSV)\n",
        "\n",
        "def download_file():\n",
        "    \"\"\"Download the dataset file.\"\"\"\n",
        "    #print(\"🔄 Downloading dataset...\")\n",
        "    response = requests.get(TGZ_URL, stream=True)\n",
        "    response.raise_for_status()\n",
        "    with open(TGZ_FILE, \"wb\") as f:\n",
        "        for chunk in response.iter_content(chunk_size=8192):\n",
        "            f.write(chunk)\n",
        "    print(\"✅ Dataset downloaded successfully!\")\n",
        "\n",
        "def extract_tgz():\n",
        "    \"\"\"Extract the dataset files.\"\"\"\n",
        "    #print(\"🔄 Extracting dataset files...\")\n",
        "    with tarfile.open(TGZ_FILE, \"r:gz\") as tar:\n",
        "        tar.extractall(EXTRACT_DIR)\n",
        "    print(\"✅ Files extracted successfully!\")\n",
        "\n",
        "def parse_xml_file(xml_path):\n",
        "    \"\"\"Parse a single XML file to extract findings and MeSH terms.\"\"\"\n",
        "    try:\n",
        "        tree = ET.parse(xml_path)\n",
        "        root = tree.getroot()\n",
        "\n",
        "        # Extract AbstractText elements\n",
        "        abstract_texts = root.findall(\".//AbstractText\")\n",
        "\n",
        "        # Extract only the \"Findings\" section\n",
        "        findings_text = \"\"\n",
        "        for abstract in abstract_texts:\n",
        "            label = abstract.attrib.get(\"Label\", \"\").lower()\n",
        "            if label == \"findings\":\n",
        "                findings_text = abstract.text.strip() if abstract.text else \"\"\n",
        "                break  # Stop after finding the \"Findings\" section\n",
        "\n",
        "        # Extract MeSH terms\n",
        "        mesh_major_list = [m.text.strip() for m in root.findall(\".//MeSH/major\") if m.text]\n",
        "        mesh_major = \"|\".join(mesh_major_list) if mesh_major_list else \"\"\n",
        "\n",
        "        return findings_text, mesh_major\n",
        "    except:\n",
        "        return \"\", \"\"\n",
        "\n",
        "def download_prepare_dataset():\n",
        "    \"\"\"Handles dataset downloading, extraction, and conversion to CSV.\"\"\"\n",
        "    run_with_feedback(clean_up, \"Cleaning up old files\")\n",
        "\n",
        "    run_with_feedback(download_file, \"Downloading dataset\")\n",
        "\n",
        "    run_with_feedback(extract_tgz, \"Extracting dataset\")\n",
        "\n",
        "    xml_files = glob.glob(os.path.join(XML_FOLDER, \"*.xml\"))\n",
        "\n",
        "    print(f\"\\n🔄 Processing {len(xml_files)} XML files...\")\n",
        "    reports = [parse_xml_file(xml_file) for xml_file in tqdm(xml_files, desc=\"🔍 Parsing XML files\")]\n",
        "    print(f\"✅ Processing completed! Total parsed reports: {len(reports)}\\n\")\n",
        "\n",
        "    # Save reports to CSV\n",
        "    print(\"🔄 Saving extracted data to CSV...\")\n",
        "    with open(OUTPUT_CSV, \"w\", newline=\"\", encoding=\"utf-8\") as csvfile:\n",
        "        writer = csv.writer(csvfile)\n",
        "        writer.writerow([\"Report\", \"MeSH Major\"])\n",
        "        for report, mesh_major in reports:\n",
        "            writer.writerow([report, mesh_major])\n",
        "    print(f\"✅ Data saved to {OUTPUT_CSV}!\")\n",
        "\n",
        "    # Load and clean the dataset\n",
        "    df = pd.read_csv(OUTPUT_CSV)\n",
        "    print(f\"\\n🔄 Cleaning dataset... {len(df)} entries found.\")\n",
        "\n",
        "    df[\"label\"] = df[\"MeSH Major\"].apply(lambda x: \"normal\" if x == \"normal\" else \"abnormal\")\n",
        "    df.rename(columns={\"Report\": \"report\"}, inplace=True)\n",
        "    df = df.map(lambda x: x.strip() if isinstance(x, str) else x)\n",
        "    df = df.replace('', pd.NA).dropna().reset_index(drop=True)\n",
        "    df.to_csv(OUTPUT_CSV, index=False)\n",
        "\n",
        "    print(\"✅ Dataset preparation completed!\")\n",
        "    return df\n",
        "\n",
        "# ✅ Run the full pipeline with feedback\n",
        "df = download_prepare_dataset()\n",
        "\n",
        "# Show data distribution\n",
        "print(f'\\n✅ Dataset ready! Total sample reports: {len(df)}')\n",
        "print(df.label.value_counts())\n"
      ],
      "metadata": {
        "colab": {
          "base_uri": "https://localhost:8080/"
        },
        "id": "sA5_fdzk0VPM",
        "outputId": "8cc01034-2ecd-4f3a-9fa3-e607d3d81eeb"
      },
      "execution_count": 3,
      "outputs": [
        {
          "output_type": "stream",
          "name": "stdout",
          "text": [
            "\n",
            "🔄 Cleaning up old files...\n",
            "✅ Cleaning up old files completed successfully!\n",
            "\n",
            "\n",
            "🔄 Downloading dataset...\n",
            "✅ Dataset downloaded successfully!\n",
            "✅ Downloading dataset completed successfully!\n",
            "\n",
            "\n",
            "🔄 Extracting dataset...\n",
            "✅ Files extracted successfully!\n",
            "✅ Extracting dataset completed successfully!\n",
            "\n",
            "\n",
            "🔄 Processing 3955 XML files...\n"
          ]
        },
        {
          "output_type": "stream",
          "name": "stderr",
          "text": [
            "🔍 Parsing XML files: 100%|██████████| 3955/3955 [00:02<00:00, 1859.03it/s]\n"
          ]
        },
        {
          "output_type": "stream",
          "name": "stdout",
          "text": [
            "✅ Processing completed! Total parsed reports: 3955\n",
            "\n",
            "🔄 Saving extracted data to CSV...\n",
            "✅ Data saved to converted_reports.csv!\n",
            "\n",
            "🔄 Cleaning dataset... 3955 entries found.\n",
            "✅ Dataset preparation completed!\n",
            "\n",
            "✅ Dataset ready! Total sample reports: 3425\n",
            "label\n",
            "abnormal    2219\n",
            "normal      1206\n",
            "Name: count, dtype: int64\n"
          ]
        }
      ]
    },
    {
      "cell_type": "markdown",
      "source": [
        "Installing Ollama"
      ],
      "metadata": {
        "id": "eymuQHCZrbDK"
      }
    },
    {
      "cell_type": "code",
      "source": [
        "import os\n",
        "import subprocess\n",
        "import threading\n",
        "import time\n",
        "\n",
        "MODEL_NAME = \"llama3.1:8b\"  # Change model name as needed\n",
        "\n",
        "def run_command_with_feedback(command, description=None, check_existing=False):\n",
        "    \"\"\"Run a shell command with a description and print feedback.\"\"\"\n",
        "    if description is None:\n",
        "        description = command\n",
        "    print(f\"\\n🔄 {description}...\")\n",
        "\n",
        "    if check_existing:\n",
        "        result = subprocess.run(command, shell=True, stdout=subprocess.PIPE, stderr=subprocess.PIPE, text=True)\n",
        "        if result.returncode == 0:\n",
        "            print(f\"✅ {description} already completed, skipping.\")\n",
        "            return\n",
        "\n",
        "    subprocess.run(command, shell=True, check=True)\n",
        "    print(f\"✅ {description} completed!\")\n",
        "\n",
        "def is_ollama_installed():\n",
        "    \"\"\"Check if Ollama is already installed.\"\"\"\n",
        "    result = subprocess.run(\"command -v ollama\", shell=True, stdout=subprocess.PIPE, stderr=subprocess.PIPE)\n",
        "    return result.returncode == 0  # If the command returns 0, Ollama is installed\n",
        "\n",
        "def is_ollama_running():\n",
        "    \"\"\"Check if Ollama is already running.\"\"\"\n",
        "    result = subprocess.run(\"pgrep -f 'ollama serve'\", shell=True, stdout=subprocess.PIPE, stderr=subprocess.PIPE)\n",
        "    return result.returncode == 0  # If the command returns 0, Ollama is running\n",
        "\n",
        "def is_model_downloaded(model_name):\n",
        "    \"\"\"Check if a model is already downloaded in Ollama.\"\"\"\n",
        "    result = subprocess.run([\"ollama\", \"list\"], stdout=subprocess.PIPE, stderr=subprocess.PIPE, text=True)\n",
        "    return model_name in result.stdout\n",
        "\n",
        "def install_ollama():\n",
        "    \"\"\"Installs Ollama in Google Colab if not already installed.\"\"\"\n",
        "    if is_ollama_installed():\n",
        "        print(\"✅ Ollama is already installed, skipping installation.\")\n",
        "        return\n",
        "\n",
        "    print(\"\\n🔄 Installing Ollama. This may take a few minutes...\")\n",
        "    run_command_with_feedback(\"apt update\", \"Updating package list\")\n",
        "    run_command_with_feedback(\"apt install -y pciutils\", \"Installing pciutils\")\n",
        "    run_command_with_feedback(\"curl -fsSL https://ollama.com/install.sh | sh\", \"Downloading and installing Ollama\")\n",
        "    print(\"✅ Ollama installed successfully!\")\n",
        "\n",
        "def start_ollama_server():\n",
        "    \"\"\"Starts the Ollama server in a background thread if not already running.\"\"\"\n",
        "    if is_ollama_running():\n",
        "        print(\"✅ Ollama server is already running.\")\n",
        "        return\n",
        "\n",
        "    print(\"\\n🚀 Starting Ollama server...\")\n",
        "    thread = threading.Thread(target=lambda: subprocess.run([\"ollama\", \"serve\"], check=True))\n",
        "    thread.start()\n",
        "    time.sleep(5)  # Give it time to start\n",
        "    if is_ollama_running():\n",
        "        print(\"✅ Ollama server is running!\")\n",
        "    else:\n",
        "        print(\"⚠️ Ollama server failed to start. Check for issues!\")\n",
        "\n",
        "def pull_model(model_name):\n",
        "    \"\"\"Downloads the model for Ollama if not already downloaded.\"\"\"\n",
        "    if is_model_downloaded(model_name):\n",
        "        print(f\"✅ Model '{model_name}' is already downloaded, skipping.\")\n",
        "        return\n",
        "\n",
        "    print(f\"\\n🔄 Pulling model: {model_name}...\")\n",
        "    subprocess.run([\"ollama\", \"pull\", model_name], check=True)\n",
        "    print(f\"✅ Model '{model_name}' downloaded successfully!\")\n",
        "\n",
        "# ✅ Run the complete setup with verification\n",
        "install_ollama()\n",
        "start_ollama_server()\n",
        "pull_model(MODEL_NAME)\n"
      ],
      "metadata": {
        "colab": {
          "base_uri": "https://localhost:8080/"
        },
        "id": "n5So_wIJraYv",
        "outputId": "aa70f539-5739-41dc-b0b5-a513f128950d"
      },
      "execution_count": 16,
      "outputs": [
        {
          "output_type": "stream",
          "name": "stdout",
          "text": [
            "✅ Ollama is already installed, skipping installation.\n",
            "✅ Ollama server is already running.\n",
            "\n",
            "🔄 Pulling model: llama3.1:8b...\n",
            "✅ Model 'llama3.1:8b' downloaded successfully!\n"
          ]
        }
      ]
    },
    {
      "cell_type": "markdown",
      "source": [
        "## **Classification with Large Language Models (LLMs)**\n",
        "To facilitate classification, we define functions that analyze radiology reports using LLMs."
      ],
      "metadata": {
        "id": "IUjtTdRd0zUD"
      }
    },
    {
      "cell_type": "code",
      "execution_count": 10,
      "metadata": {
        "id": "OQTbrtDHync1"
      },
      "outputs": [],
      "source": [
        "def classify_report(report, template, looking_for=None, examples=None):\n",
        "    \"\"\"\n",
        "    Classify a radiology report using LLM\n",
        "    \"\"\"\n",
        "    model=MODEL_NAME\n",
        "    if 'gpt' in model:\n",
        "        # Initialize OpenAI model. Remember that you need to provide an OpenAI API Key to run this model\n",
        "        llm = ChatOpenAI(model=\"gpt-4o-mini-2024-07-18\", temperature=0, seed=42, model_kwargs={\"response_format\": {\"type\": \"json_object\"}})\n",
        "    else:\n",
        "        # Initialize Ollama model\n",
        "        llm = ChatOllama(model=model, base_url=\"localhost:11434\", format='json', keep_alive=-1, temperature=0, seed=42, model_kwargs={\"seed\": 42, \"response_format\": {\"type\": \"json_object\"}})\n",
        "\n",
        "\n",
        "    # Format the template with the report and any findings\n",
        "    if looking_for and examples:\n",
        "        prompt = template.format(report=report, looking_for=looking_for, examples=examples)\n",
        "    else:\n",
        "        prompt = template.format(report=report)\n",
        "\n",
        "    try:\n",
        "        response = llm.invoke(prompt)\n",
        "        result = json.loads(response.content.lower())\n",
        "        return result['classification']\n",
        "    except Exception as e:\n",
        "        print(f\"Error during classification: {e}\")\n",
        "        return 'error'\n",
        "\n",
        "def classify_multiple_reports(df, n_reports=5, template=None, looking_for=None, examples=None, seed=44):\n",
        "    \"\"\"Classify multiple random reports\"\"\"\n",
        "    results = []\n",
        "    random.seed(seed)  # Set seed for reproducibility\n",
        "    report_indices = random.sample(range(len(df)), n_reports)\n",
        "\n",
        "    for idx in tqdm(report_indices, desc=\"Classifying reports\"):\n",
        "        report = df.iloc[idx]['report']\n",
        "        label = df.iloc[idx]['label']\n",
        "        prediction = classify_report(report, template, looking_for, examples)\n",
        "\n",
        "        results.append({\n",
        "            'index': idx,\n",
        "            'report': report,\n",
        "            'original_label': label,\n",
        "            'predicted_label': prediction\n",
        "        })\n",
        "\n",
        "    return results\n",
        "\n",
        "def display_results(results, show_original_label=True):\n",
        "    \"\"\"Display classification results in a readable format\"\"\"\n",
        "\n",
        "    for r in results:\n",
        "        print(f\"\\nReport #{r['index']}:\")\n",
        "        print(\"=\" * 50)\n",
        "        print(f\"Report text:\")\n",
        "        display(r['report'])\n",
        "        print(\"-\" * 50)\n",
        "\n",
        "        if show_original_label:\n",
        "            # Compare prediction with the original label\n",
        "            is_correct = r['original_label'].lower() == r['predicted_label'].lower()\n",
        "            classification = 'Correct' if is_correct else 'Wrong'\n",
        "            classification_icon = '✅' if is_correct else '👎'\n",
        "            print(f\"Original Label : {r['original_label']}\")\n",
        "            print(f\"Predicted Label: {r['predicted_label']}\")\n",
        "            print(f\"Classification : {classification} {classification_icon}\")\n",
        "\n",
        "        else:\n",
        "            # Only show predicted classification when original label is hidden\n",
        "            is_correct = r['predicted_label'].lower() == \"present\"\n",
        "            classification_icon = '✓✓✓' if is_correct else 'xxx'\n",
        "            classification_icon = '✅' if is_correct else '👎'\n",
        "            print(f\"Finding: {r['predicted_label']} {classification_icon}\")\n",
        "\n",
        "        print()\n",
        "\n",
        "\n",
        "    total = len(results)\n",
        "    print(\"SUMMARY:\")\n",
        "    print(\"=\" * 50)\n",
        "    print(f\"\\nAnalyzed {total} reports\")\n",
        "\n",
        "    # Show accuracy if original labels are available\n",
        "    if show_original_label:\n",
        "        correct = sum(1 for r in results if r['original_label'].lower() == r['predicted_label'].lower())\n",
        "\n",
        "        print(f\"Correct predictions: {correct}\")\n",
        "        print(f\"Accuracy: {(correct/total)*100:.1f}%\\n\")\n"
      ]
    },
    {
      "cell_type": "markdown",
      "source": [
        "# **Let's Try It Out!** 🏥\n",
        "\n",
        "## **Zero-Shot Classification**\n",
        "In **zero-shot classification**, the model determines whether a given chest X-ray report describes a normal or abnormal case without prior examples.\n",
        "\n",
        "\n",
        "### How It Works:\n",
        "**Prompt Template:**  \n",
        "- The model receives a structured instruction to classify reports.\n",
        "- The response format is **JSON**, containing the key **\"classification\"** with possible values: `\"normal\"` or `\"abnormal\"`.\n",
        "- The `{report}` placeholder is replaced with an actual chest X-ray report before passing it to the model.\n"
      ],
      "metadata": {
        "id": "lz6W0gxs04-Q"
      }
    },
    {
      "cell_type": "code",
      "source": [
        "zero_shot_prompt_template = \"\"\"\n",
        "### INSTRUCTION\n",
        "You are a specialist in chest X-ray reports. Your task is to classify whether a report is normal or abnormal.\n",
        "Your response should be in JSON format with the key \"classification\" and the possible values: \"normal\" or \"abnormal\".\n",
        "\n",
        "### REPORT TO CLASSIFY\n",
        "{report}\n",
        "\"\"\"\n",
        "\n",
        "\n",
        "#for seed in range(60, 80):\n",
        "results = classify_multiple_reports(df, n_reports=1, template=zero_shot_prompt_template, seed=73)\n",
        "display_results(results, show_original_label=True)\n"
      ],
      "metadata": {
        "colab": {
          "base_uri": "https://localhost:8080/",
          "height": 347
        },
        "id": "48x9wcTL0_m9",
        "outputId": "11fa49f8-968e-49ae-fa92-0506e952a706"
      },
      "execution_count": 11,
      "outputs": [
        {
          "output_type": "stream",
          "name": "stderr",
          "text": [
            "Classifying reports: 100%|██████████| 1/1 [00:10<00:00, 10.16s/it]"
          ]
        },
        {
          "output_type": "stream",
          "name": "stdout",
          "text": [
            "\n",
            "Report #1146:\n",
            "==================================================\n",
            "Report text:\n"
          ]
        },
        {
          "output_type": "stream",
          "name": "stderr",
          "text": [
            "\n"
          ]
        },
        {
          "output_type": "display_data",
          "data": {
            "text/plain": [
              "'The lungs and pleural spaces show no acute abnormality. Heart size and pulmonary vascularity within normal limits.'"
            ],
            "application/vnd.google.colaboratory.intrinsic+json": {
              "type": "string"
            }
          },
          "metadata": {}
        },
        {
          "output_type": "stream",
          "name": "stdout",
          "text": [
            "--------------------------------------------------\n",
            "Original Label : normal\n",
            "Predicted Label: normal\n",
            "Classification : Correct ✅\n",
            "\n",
            "SUMMARY:\n",
            "==================================================\n",
            "\n",
            "Analyzed 1 reports\n",
            "Correct predictions: 1\n",
            "Accuracy: 100.0%\n",
            "\n"
          ]
        }
      ]
    },
    {
      "cell_type": "markdown",
      "source": [
        "### Testing Classification in Multiple Reports to measure performance"
      ],
      "metadata": {
        "id": "qfcCWv-RLjJW"
      }
    },
    {
      "cell_type": "code",
      "source": [
        "results = classify_multiple_reports(df, n_reports=10, template=zero_shot_prompt_template, seed=44)\n",
        "\n",
        "display_results(results, show_original_label=True)"
      ],
      "metadata": {
        "colab": {
          "base_uri": "https://localhost:8080/",
          "height": 1000
        },
        "id": "xMocZs02Ligb",
        "outputId": "790ed910-c1ca-4d06-a686-f5617e2fbc9c"
      },
      "execution_count": 12,
      "outputs": [
        {
          "output_type": "stream",
          "name": "stderr",
          "text": [
            "Classifying reports: 100%|██████████| 10/10 [00:04<00:00,  2.06it/s]"
          ]
        },
        {
          "output_type": "stream",
          "name": "stdout",
          "text": [
            "\n",
            "Report #1673:\n",
            "==================================================\n",
            "Report text:\n"
          ]
        },
        {
          "output_type": "stream",
          "name": "stderr",
          "text": [
            "\n"
          ]
        },
        {
          "output_type": "display_data",
          "data": {
            "text/plain": [
              "'The heart is normal in size and contour. The lungs are clear, without evidence of infiltrate. There is no pneumothorax or effusion.'"
            ],
            "application/vnd.google.colaboratory.intrinsic+json": {
              "type": "string"
            }
          },
          "metadata": {}
        },
        {
          "output_type": "stream",
          "name": "stdout",
          "text": [
            "--------------------------------------------------\n",
            "Original Label : normal\n",
            "Predicted Label: normal\n",
            "Classification : Correct ✅\n",
            "\n",
            "\n",
            "Report #2130:\n",
            "==================================================\n",
            "Report text:\n"
          ]
        },
        {
          "output_type": "display_data",
          "data": {
            "text/plain": [
              "'The cardiomediastinal silhouette is normal. Lungs are hyperexpanded but clear without evidence of effusion or infiltrate. There is a small right lower lobe calcified granuloma that is unchanged from prior examinations. No acute bony abnormality. No pneumothorax or pneumomediastinum.'"
            ],
            "application/vnd.google.colaboratory.intrinsic+json": {
              "type": "string"
            }
          },
          "metadata": {}
        },
        {
          "output_type": "stream",
          "name": "stdout",
          "text": [
            "--------------------------------------------------\n",
            "Original Label : abnormal\n",
            "Predicted Label: normal\n",
            "Classification : Wrong 👎\n",
            "\n",
            "\n",
            "Report #2219:\n",
            "==================================================\n",
            "Report text:\n"
          ]
        },
        {
          "output_type": "display_data",
          "data": {
            "text/plain": [
              "'The Cardiopulmonary silhouette is normal. The Heart size is normal. The lungs are clear with no pulmonary effusions or pneumothorax.'"
            ],
            "application/vnd.google.colaboratory.intrinsic+json": {
              "type": "string"
            }
          },
          "metadata": {}
        },
        {
          "output_type": "stream",
          "name": "stdout",
          "text": [
            "--------------------------------------------------\n",
            "Original Label : normal\n",
            "Predicted Label: normal\n",
            "Classification : Correct ✅\n",
            "\n",
            "\n",
            "Report #2873:\n",
            "==================================================\n",
            "Report text:\n"
          ]
        },
        {
          "output_type": "display_data",
          "data": {
            "text/plain": [
              "'There are no focal areas of consolidation. No suspicious pulmonary opacities. Heart size within normal limits. No pleural effusions. There is no evidence of pneumothorax. Osseous structures are intact.'"
            ],
            "application/vnd.google.colaboratory.intrinsic+json": {
              "type": "string"
            }
          },
          "metadata": {}
        },
        {
          "output_type": "stream",
          "name": "stdout",
          "text": [
            "--------------------------------------------------\n",
            "Original Label : normal\n",
            "Predicted Label: normal\n",
            "Classification : Correct ✅\n",
            "\n",
            "\n",
            "Report #477:\n",
            "==================================================\n",
            "Report text:\n"
          ]
        },
        {
          "output_type": "display_data",
          "data": {
            "text/plain": [
              "'The cardiomediastinal silhouette and pulmonary vasculature are within normal limits. There is no pneumothorax or pleural effusion. There are no focal areas of consolidation.'"
            ],
            "application/vnd.google.colaboratory.intrinsic+json": {
              "type": "string"
            }
          },
          "metadata": {}
        },
        {
          "output_type": "stream",
          "name": "stdout",
          "text": [
            "--------------------------------------------------\n",
            "Original Label : normal\n",
            "Predicted Label: normal\n",
            "Classification : Correct ✅\n",
            "\n",
            "\n",
            "Report #723:\n",
            "==================================================\n",
            "Report text:\n"
          ]
        },
        {
          "output_type": "display_data",
          "data": {
            "text/plain": [
              "'Stable obscuration of the left cardiac XXXX, XXXX representing left pleural thickening. Stable nodular opacity within the left midlung. The lungs are clear bilaterally with no focal consolidation, pleural effusions, or pneumothoraces. Cardiomediastinal silhouette is stable. XXXX are unremarkable.'"
            ],
            "application/vnd.google.colaboratory.intrinsic+json": {
              "type": "string"
            }
          },
          "metadata": {}
        },
        {
          "output_type": "stream",
          "name": "stdout",
          "text": [
            "--------------------------------------------------\n",
            "Original Label : abnormal\n",
            "Predicted Label: abnormal\n",
            "Classification : Correct ✅\n",
            "\n",
            "\n",
            "Report #1554:\n",
            "==================================================\n",
            "Report text:\n"
          ]
        },
        {
          "output_type": "display_data",
          "data": {
            "text/plain": [
              "'Normal heart size. Normal mediastinal silhouette. No pneumothorax, pleural effusion or suspicious focal air space opacity.'"
            ],
            "application/vnd.google.colaboratory.intrinsic+json": {
              "type": "string"
            }
          },
          "metadata": {}
        },
        {
          "output_type": "stream",
          "name": "stdout",
          "text": [
            "--------------------------------------------------\n",
            "Original Label : normal\n",
            "Predicted Label: normal\n",
            "Classification : Correct ✅\n",
            "\n",
            "\n",
            "Report #922:\n",
            "==================================================\n",
            "Report text:\n"
          ]
        },
        {
          "output_type": "display_data",
          "data": {
            "text/plain": [
              "'The cardiomediastinal silhouette and vasculature are within normal limits for size and contour. Note is XXXX of an XXXX closure device which appears grossly appropriate The lungs are normally inflated and clear. Osseous structures are within normal limits for patient age.'"
            ],
            "application/vnd.google.colaboratory.intrinsic+json": {
              "type": "string"
            }
          },
          "metadata": {}
        },
        {
          "output_type": "stream",
          "name": "stdout",
          "text": [
            "--------------------------------------------------\n",
            "Original Label : abnormal\n",
            "Predicted Label: normal\n",
            "Classification : Wrong 👎\n",
            "\n",
            "\n",
            "Report #1186:\n",
            "==================================================\n",
            "Report text:\n"
          ]
        },
        {
          "output_type": "display_data",
          "data": {
            "text/plain": [
              "'Heart size and pulmonary vascularity appear within normal limits. The lungs are free of focal airspace disease. No pleural effusion or pneumothorax is seen. Degenerative changes are present in the spine.'"
            ],
            "application/vnd.google.colaboratory.intrinsic+json": {
              "type": "string"
            }
          },
          "metadata": {}
        },
        {
          "output_type": "stream",
          "name": "stdout",
          "text": [
            "--------------------------------------------------\n",
            "Original Label : abnormal\n",
            "Predicted Label: normal\n",
            "Classification : Wrong 👎\n",
            "\n",
            "\n",
            "Report #119:\n",
            "==================================================\n",
            "Report text:\n"
          ]
        },
        {
          "output_type": "display_data",
          "data": {
            "text/plain": [
              "'Normal heart size and mediastinal contours. No focal airspace consolidation. Chronic appearing left greater than right lung base scarring with possible small effusions. No pneumothorax. Visualized osseous structures are unremarkable in appearance.'"
            ],
            "application/vnd.google.colaboratory.intrinsic+json": {
              "type": "string"
            }
          },
          "metadata": {}
        },
        {
          "output_type": "stream",
          "name": "stdout",
          "text": [
            "--------------------------------------------------\n",
            "Original Label : abnormal\n",
            "Predicted Label: normal\n",
            "Classification : Wrong 👎\n",
            "\n",
            "SUMMARY:\n",
            "==================================================\n",
            "\n",
            "Analyzed 10 reports\n",
            "Correct predictions: 6\n",
            "Accuracy: 60.0%\n",
            "\n"
          ]
        }
      ]
    },
    {
      "cell_type": "markdown",
      "source": [
        "## 2. Few-Shot Classification\n",
        "\n",
        "Zero-shot classification may not always be accurate. To enhance performance, we use **few-shot prompting**, where the model is provided with a few labeled examples to improve its accuracy.\n",
        "\n",
        "### How It Works:\n",
        "**Prompt Template:**  \n",
        "- The `{examples}` placeholder contains relevant instances of abnormalities.\n",
        "- The `{report}` placeholder is replaced with an actual chest X-ray report.\n",
        "- The model is instructed to classify a report as **abnormal** if it contains specific **findings**."
      ],
      "metadata": {
        "id": "ebiLxukC5k3q"
      }
    },
    {
      "cell_type": "code",
      "source": [
        "few_show_template = \"\"\"\n",
        "### INSTRUCTION\n",
        "You are a specialist in chest X-ray reports.\n",
        "Your task is to classify a report as abnormal if it describes signs of {looking_for}, such as:\n",
        "{examples}\n",
        "Consider the finding positive even if it is mild.\n",
        "If multiple X-rays are reported together, focus only on the chest X-ray report.\n",
        "Your response should be in JSON format with the key 'classification' and the possible values: 'normal' or 'abnormal'.\n",
        "\n",
        "### REPORT TO CLASSIFY\n",
        "{report}\n",
        "\"\"\"\n",
        "\n",
        "looking_for = 'any abnormalities'\n",
        "\n",
        "examples = \"\"\"\n",
        "- Low or high lung volume.\n",
        "- Abnormalities in the lungs, bones, heart, mediastinum, or pleura.\n",
        "- Abnormal calcifications, granulomas, or calcified lymph nodes.\n",
        "- Post-surgical changes overlying the axilla, neck, or abdominal regions.\n",
        "- Presence of surgical or closure devices.\n",
        "- Part of the lung was not evaluated.\n",
        "\"\"\"\n",
        "\n",
        "\n",
        "print(f\"\\n{looking_for.capitalize()} Classifier\")\n",
        "print(f\"Examples: {examples}\")\n",
        "\n",
        "\n",
        "results = classify_multiple_reports(df, n_reports=10,\n",
        "                                    template=few_show_template,\n",
        "                                    looking_for=looking_for,\n",
        "                                    examples=examples,\n",
        "                                    seed=44)\n",
        "\n",
        "display_results(results, show_original_label=True)"
      ],
      "metadata": {
        "colab": {
          "base_uri": "https://localhost:8080/",
          "height": 1000
        },
        "id": "D605KDra5xWA",
        "outputId": "9e69b733-3a02-4186-dff1-133be43196ec"
      },
      "execution_count": 13,
      "outputs": [
        {
          "output_type": "stream",
          "name": "stdout",
          "text": [
            "\n",
            "Any abnormalities Classifier\n",
            "Examples: \n",
            "- Low or high lung volume.\n",
            "- Abnormalities in the lungs, bones, heart, mediastinum, or pleura.\n",
            "- Abnormal calcifications, granulomas, or calcified lymph nodes.\n",
            "- Post-surgical changes overlying the axilla, neck, or abdominal regions.\n",
            "- Presence of surgical or closure devices.\n",
            "- Part of the lung was not evaluated.\n",
            "\n"
          ]
        },
        {
          "output_type": "stream",
          "name": "stderr",
          "text": [
            "Classifying reports: 100%|██████████| 10/10 [00:05<00:00,  1.81it/s]"
          ]
        },
        {
          "output_type": "stream",
          "name": "stdout",
          "text": [
            "\n",
            "Report #1673:\n",
            "==================================================\n",
            "Report text:\n"
          ]
        },
        {
          "output_type": "stream",
          "name": "stderr",
          "text": [
            "\n"
          ]
        },
        {
          "output_type": "display_data",
          "data": {
            "text/plain": [
              "'The heart is normal in size and contour. The lungs are clear, without evidence of infiltrate. There is no pneumothorax or effusion.'"
            ],
            "application/vnd.google.colaboratory.intrinsic+json": {
              "type": "string"
            }
          },
          "metadata": {}
        },
        {
          "output_type": "stream",
          "name": "stdout",
          "text": [
            "--------------------------------------------------\n",
            "Original Label : normal\n",
            "Predicted Label: normal\n",
            "Classification : Correct ✅\n",
            "\n",
            "\n",
            "Report #2130:\n",
            "==================================================\n",
            "Report text:\n"
          ]
        },
        {
          "output_type": "display_data",
          "data": {
            "text/plain": [
              "'The cardiomediastinal silhouette is normal. Lungs are hyperexpanded but clear without evidence of effusion or infiltrate. There is a small right lower lobe calcified granuloma that is unchanged from prior examinations. No acute bony abnormality. No pneumothorax or pneumomediastinum.'"
            ],
            "application/vnd.google.colaboratory.intrinsic+json": {
              "type": "string"
            }
          },
          "metadata": {}
        },
        {
          "output_type": "stream",
          "name": "stdout",
          "text": [
            "--------------------------------------------------\n",
            "Original Label : abnormal\n",
            "Predicted Label: abnormal\n",
            "Classification : Correct ✅\n",
            "\n",
            "\n",
            "Report #2219:\n",
            "==================================================\n",
            "Report text:\n"
          ]
        },
        {
          "output_type": "display_data",
          "data": {
            "text/plain": [
              "'The Cardiopulmonary silhouette is normal. The Heart size is normal. The lungs are clear with no pulmonary effusions or pneumothorax.'"
            ],
            "application/vnd.google.colaboratory.intrinsic+json": {
              "type": "string"
            }
          },
          "metadata": {}
        },
        {
          "output_type": "stream",
          "name": "stdout",
          "text": [
            "--------------------------------------------------\n",
            "Original Label : normal\n",
            "Predicted Label: normal\n",
            "Classification : Correct ✅\n",
            "\n",
            "\n",
            "Report #2873:\n",
            "==================================================\n",
            "Report text:\n"
          ]
        },
        {
          "output_type": "display_data",
          "data": {
            "text/plain": [
              "'There are no focal areas of consolidation. No suspicious pulmonary opacities. Heart size within normal limits. No pleural effusions. There is no evidence of pneumothorax. Osseous structures are intact.'"
            ],
            "application/vnd.google.colaboratory.intrinsic+json": {
              "type": "string"
            }
          },
          "metadata": {}
        },
        {
          "output_type": "stream",
          "name": "stdout",
          "text": [
            "--------------------------------------------------\n",
            "Original Label : normal\n",
            "Predicted Label: normal\n",
            "Classification : Correct ✅\n",
            "\n",
            "\n",
            "Report #477:\n",
            "==================================================\n",
            "Report text:\n"
          ]
        },
        {
          "output_type": "display_data",
          "data": {
            "text/plain": [
              "'The cardiomediastinal silhouette and pulmonary vasculature are within normal limits. There is no pneumothorax or pleural effusion. There are no focal areas of consolidation.'"
            ],
            "application/vnd.google.colaboratory.intrinsic+json": {
              "type": "string"
            }
          },
          "metadata": {}
        },
        {
          "output_type": "stream",
          "name": "stdout",
          "text": [
            "--------------------------------------------------\n",
            "Original Label : normal\n",
            "Predicted Label: normal\n",
            "Classification : Correct ✅\n",
            "\n",
            "\n",
            "Report #723:\n",
            "==================================================\n",
            "Report text:\n"
          ]
        },
        {
          "output_type": "display_data",
          "data": {
            "text/plain": [
              "'Stable obscuration of the left cardiac XXXX, XXXX representing left pleural thickening. Stable nodular opacity within the left midlung. The lungs are clear bilaterally with no focal consolidation, pleural effusions, or pneumothoraces. Cardiomediastinal silhouette is stable. XXXX are unremarkable.'"
            ],
            "application/vnd.google.colaboratory.intrinsic+json": {
              "type": "string"
            }
          },
          "metadata": {}
        },
        {
          "output_type": "stream",
          "name": "stdout",
          "text": [
            "--------------------------------------------------\n",
            "Original Label : abnormal\n",
            "Predicted Label: abnormal\n",
            "Classification : Correct ✅\n",
            "\n",
            "\n",
            "Report #1554:\n",
            "==================================================\n",
            "Report text:\n"
          ]
        },
        {
          "output_type": "display_data",
          "data": {
            "text/plain": [
              "'Normal heart size. Normal mediastinal silhouette. No pneumothorax, pleural effusion or suspicious focal air space opacity.'"
            ],
            "application/vnd.google.colaboratory.intrinsic+json": {
              "type": "string"
            }
          },
          "metadata": {}
        },
        {
          "output_type": "stream",
          "name": "stdout",
          "text": [
            "--------------------------------------------------\n",
            "Original Label : normal\n",
            "Predicted Label: normal\n",
            "Classification : Correct ✅\n",
            "\n",
            "\n",
            "Report #922:\n",
            "==================================================\n",
            "Report text:\n"
          ]
        },
        {
          "output_type": "display_data",
          "data": {
            "text/plain": [
              "'The cardiomediastinal silhouette and vasculature are within normal limits for size and contour. Note is XXXX of an XXXX closure device which appears grossly appropriate The lungs are normally inflated and clear. Osseous structures are within normal limits for patient age.'"
            ],
            "application/vnd.google.colaboratory.intrinsic+json": {
              "type": "string"
            }
          },
          "metadata": {}
        },
        {
          "output_type": "stream",
          "name": "stdout",
          "text": [
            "--------------------------------------------------\n",
            "Original Label : abnormal\n",
            "Predicted Label: normal\n",
            "Classification : Wrong 👎\n",
            "\n",
            "\n",
            "Report #1186:\n",
            "==================================================\n",
            "Report text:\n"
          ]
        },
        {
          "output_type": "display_data",
          "data": {
            "text/plain": [
              "'Heart size and pulmonary vascularity appear within normal limits. The lungs are free of focal airspace disease. No pleural effusion or pneumothorax is seen. Degenerative changes are present in the spine.'"
            ],
            "application/vnd.google.colaboratory.intrinsic+json": {
              "type": "string"
            }
          },
          "metadata": {}
        },
        {
          "output_type": "stream",
          "name": "stdout",
          "text": [
            "--------------------------------------------------\n",
            "Original Label : abnormal\n",
            "Predicted Label: normal\n",
            "Classification : Wrong 👎\n",
            "\n",
            "\n",
            "Report #119:\n",
            "==================================================\n",
            "Report text:\n"
          ]
        },
        {
          "output_type": "display_data",
          "data": {
            "text/plain": [
              "'Normal heart size and mediastinal contours. No focal airspace consolidation. Chronic appearing left greater than right lung base scarring with possible small effusions. No pneumothorax. Visualized osseous structures are unremarkable in appearance.'"
            ],
            "application/vnd.google.colaboratory.intrinsic+json": {
              "type": "string"
            }
          },
          "metadata": {}
        },
        {
          "output_type": "stream",
          "name": "stdout",
          "text": [
            "--------------------------------------------------\n",
            "Original Label : abnormal\n",
            "Predicted Label: abnormal\n",
            "Classification : Correct ✅\n",
            "\n",
            "SUMMARY:\n",
            "==================================================\n",
            "\n",
            "Analyzed 10 reports\n",
            "Correct predictions: 8\n",
            "Accuracy: 80.0%\n",
            "\n"
          ]
        }
      ]
    },
    {
      "cell_type": "markdown",
      "source": [
        "## 3. Condition-Specific Classification\n",
        "\n",
        "In some cases, you may need to classify reports based on specific medical conditions rather than general abnormalities.\n",
        "\n",
        "### How It Works:\n",
        "**Prompt Template:**  \n",
        "- The `{looking_for}` placeholder specifies the condition to be detected (e.g., cardiomegaly, COPD).\n",
        "- The `{examples}` placeholder contains key indicators related to the condition.\n",
        "- The model classifies the report as **\"present\"** or **\"absent\"** based on the findings.\n",
        "\n",
        "### Example: Cardiomegaly Detection\n",
        "- **Signs of Cardiomegaly:**\n",
        "  - Increased heart size\n",
        "  - Enlarged cardiac silhouette\n",
        "  - Increased cardiomediastinal silhouette"
      ],
      "metadata": {
        "id": "UUut9R0XdV_I"
      }
    },
    {
      "cell_type": "code",
      "source": [
        "finding_specific_template = \"\"\"\n",
        "### INSTRUCTION\n",
        "You are a specialist in chest X-ray reports.\n",
        "Your task is to classify a report as positive if it describes signs of {looking_for}, such as:\n",
        "{examples}\n",
        "Consider the finding positive even if it is mild.\n",
        "Your response should be in JSON format with the key 'classification' and the possible values: 'present' or 'absent'.\n",
        "\n",
        "### REPORT TO CLASSIFY\n",
        "{report}\n",
        "\"\"\"\n",
        "\n",
        "looking_for = 'cardiomegaly'\n",
        "\n",
        "examples = \"\"\"\n",
        "- Increased heart size.\n",
        "- Enlarged cardiac silhouette.\n",
        "- Increased cardiomediastinal silhouette.\n",
        "\"\"\"\n",
        "\n",
        "print(f\"\\n{looking_for.capitalize()} Detection\")\n",
        "print(f\"Examples: {examples}\")\n",
        "\n",
        "\n",
        "results = classify_multiple_reports(df,\n",
        "                                    n_reports=10,\n",
        "                                    template=finding_specific_template,\n",
        "                                    looking_for=looking_for,\n",
        "                                    examples=examples,\n",
        "                                    seed=42)\n",
        "\n",
        "display_results(results, show_original_label=False)"
      ],
      "metadata": {
        "colab": {
          "base_uri": "https://localhost:8080/",
          "height": 1000
        },
        "outputId": "556ac4e7-da3a-418c-c266-4da823685797",
        "id": "X38XwG9JdkdJ"
      },
      "execution_count": 14,
      "outputs": [
        {
          "output_type": "stream",
          "name": "stdout",
          "text": [
            "\n",
            "Cardiomegaly Detection\n",
            "Examples: \n",
            "- Increased heart size.\n",
            "- Enlarged cardiac silhouette.\n",
            "- Increased cardiomediastinal silhouette.\n",
            "\n"
          ]
        },
        {
          "output_type": "stream",
          "name": "stderr",
          "text": [
            "Classifying reports: 100%|██████████| 10/10 [00:05<00:00,  1.86it/s]"
          ]
        },
        {
          "output_type": "stream",
          "name": "stdout",
          "text": [
            "\n",
            "Report #2619:\n",
            "==================================================\n",
            "Report text:\n"
          ]
        },
        {
          "output_type": "stream",
          "name": "stderr",
          "text": [
            "\n"
          ]
        },
        {
          "output_type": "display_data",
          "data": {
            "text/plain": [
              "'Mediastinal contours are normal. Unchanged XXXX opacity in the left lung base, XXXX scarring. Lungs are clear. There is no pneumothorax or large pleural effusion.'"
            ],
            "application/vnd.google.colaboratory.intrinsic+json": {
              "type": "string"
            }
          },
          "metadata": {}
        },
        {
          "output_type": "stream",
          "name": "stdout",
          "text": [
            "--------------------------------------------------\n",
            "Finding: absent 👎\n",
            "\n",
            "\n",
            "Report #456:\n",
            "==================================================\n",
            "Report text:\n"
          ]
        },
        {
          "output_type": "display_data",
          "data": {
            "text/plain": [
              "'Heart size within normal limits, stable mediastinal and hilar contours. No focal alveolar consolidation, no definite pleural effusion seen. No typical findings of pulmonary edema.'"
            ],
            "application/vnd.google.colaboratory.intrinsic+json": {
              "type": "string"
            }
          },
          "metadata": {}
        },
        {
          "output_type": "stream",
          "name": "stdout",
          "text": [
            "--------------------------------------------------\n",
            "Finding: absent 👎\n",
            "\n",
            "\n",
            "Report #102:\n",
            "==================================================\n",
            "Report text:\n"
          ]
        },
        {
          "output_type": "display_data",
          "data": {
            "text/plain": [
              "'The cardiomediastinal silhouette is within normal limits for size and contour. The lungs are normally inflated without evidence of focal airspace disease, pleural effusion, or pneumothorax. Osseous structures are within normal limits for patient age..'"
            ],
            "application/vnd.google.colaboratory.intrinsic+json": {
              "type": "string"
            }
          },
          "metadata": {}
        },
        {
          "output_type": "stream",
          "name": "stdout",
          "text": [
            "--------------------------------------------------\n",
            "Finding: absent 👎\n",
            "\n",
            "\n",
            "Report #3037:\n",
            "==================================================\n",
            "Report text:\n"
          ]
        },
        {
          "output_type": "display_data",
          "data": {
            "text/plain": [
              "'The heart size and pulmonary vascularity appear within normal limits. The lungs are free of focal airspace disease. No pleural effusion or pneumothorax is seen.'"
            ],
            "application/vnd.google.colaboratory.intrinsic+json": {
              "type": "string"
            }
          },
          "metadata": {}
        },
        {
          "output_type": "stream",
          "name": "stdout",
          "text": [
            "--------------------------------------------------\n",
            "Finding: absent 👎\n",
            "\n",
            "\n",
            "Report #1126:\n",
            "==================================================\n",
            "Report text:\n"
          ]
        },
        {
          "output_type": "display_data",
          "data": {
            "text/plain": [
              "'The heart and lungs have XXXX XXXX in the interval. Both lungs are clear and expanded. Heart and mediastinum normal. No change right anterior soft tissue surgical clips. Configuration of breast shadows on the PA view suggests prior right lumpectomy.'"
            ],
            "application/vnd.google.colaboratory.intrinsic+json": {
              "type": "string"
            }
          },
          "metadata": {}
        },
        {
          "output_type": "stream",
          "name": "stdout",
          "text": [
            "--------------------------------------------------\n",
            "Finding: absent 👎\n",
            "\n",
            "\n",
            "Report #1003:\n",
            "==================================================\n",
            "Report text:\n"
          ]
        },
        {
          "output_type": "display_data",
          "data": {
            "text/plain": [
              "'There is a moderate right-sided pneumothorax measuring approximately 3.3 cm in the right apex. There is a minimally displaced right lateral 8th rib fracture and probable nondisplaced right lateral 7th rib fracture. Cardiomediastinal silhouette is within normal limits. Left lung is clear.'"
            ],
            "application/vnd.google.colaboratory.intrinsic+json": {
              "type": "string"
            }
          },
          "metadata": {}
        },
        {
          "output_type": "stream",
          "name": "stdout",
          "text": [
            "--------------------------------------------------\n",
            "Finding: absent 👎\n",
            "\n",
            "\n",
            "Report #914:\n",
            "==================================================\n",
            "Report text:\n"
          ]
        },
        {
          "output_type": "display_data",
          "data": {
            "text/plain": [
              "'The lungs are clear bilaterally. Specifically, no evidence of focal consolidation, pneumothorax, or pleural effusion.. Cardio mediastinal silhouette is unremarkable. Visualized osseous structures of the thorax are without acute abnormality.'"
            ],
            "application/vnd.google.colaboratory.intrinsic+json": {
              "type": "string"
            }
          },
          "metadata": {}
        },
        {
          "output_type": "stream",
          "name": "stdout",
          "text": [
            "--------------------------------------------------\n",
            "Finding: absent 👎\n",
            "\n",
            "\n",
            "Report #571:\n",
            "==================================================\n",
            "Report text:\n"
          ]
        },
        {
          "output_type": "display_data",
          "data": {
            "text/plain": [
              "'There is a XXXX moderate layering right pleural effusion with air fluid level noted. XXXX airspace opacity at the superior segment of the right lower lobe. No visualized pneumothorax. The right lateral heart XXXX is obscured. The left lung is clear without focal consolidation. No visualized pneumothorax. No acute bone abnormality.'"
            ],
            "application/vnd.google.colaboratory.intrinsic+json": {
              "type": "string"
            }
          },
          "metadata": {}
        },
        {
          "output_type": "stream",
          "name": "stdout",
          "text": [
            "--------------------------------------------------\n",
            "Finding: present ✅\n",
            "\n",
            "\n",
            "Report #3016:\n",
            "==================================================\n",
            "Report text:\n"
          ]
        },
        {
          "output_type": "display_data",
          "data": {
            "text/plain": [
              "'The heart is normal in size. The mediastinum is unremarkable. The lungs are clear.'"
            ],
            "application/vnd.google.colaboratory.intrinsic+json": {
              "type": "string"
            }
          },
          "metadata": {}
        },
        {
          "output_type": "stream",
          "name": "stdout",
          "text": [
            "--------------------------------------------------\n",
            "Finding: absent 👎\n",
            "\n",
            "\n",
            "Report #419:\n",
            "==================================================\n",
            "Report text:\n"
          ]
        },
        {
          "output_type": "display_data",
          "data": {
            "text/plain": [
              "'There is XXXX airspace disease in the right lower lobe seen behind the right hemidiaphragm on PA view. This is also well seen on lateral view. Remainder of the lungs appear clear. The heart and pulmonary XXXX appear normal. Mediastinal contours are normal.'"
            ],
            "application/vnd.google.colaboratory.intrinsic+json": {
              "type": "string"
            }
          },
          "metadata": {}
        },
        {
          "output_type": "stream",
          "name": "stdout",
          "text": [
            "--------------------------------------------------\n",
            "Finding: absent 👎\n",
            "\n",
            "SUMMARY:\n",
            "==================================================\n",
            "\n",
            "Analyzed 10 reports\n"
          ]
        }
      ]
    },
    {
      "cell_type": "markdown",
      "source": [
        "# Create Your Own Specialized Classifier! 🚀\n",
        "\n",
        "You can create a custom classifier for any specific condition by following these steps:\n",
        "\n",
        "1. **Define the condition** you want to detect (e.g., COPD, pleural effusion).\n",
        "2. **Specify key indicators** associated with the condition.\n",
        "3. **Modify the template** to reflect the new condition and findings.\n",
        "4. **Run the model** to classify reports based on your selected condition.\n",
        "\n",
        "### Example: COPD Detection\n",
        "- **Signs of COPD:**\n",
        "  - Hyperinflated lungs\n",
        "  - Flattened diaphragm\n",
        "  - Increased retrosternal airspace\n",
        "  - Narrowed cardiac silhouette\n",
        "  - Emphysematous changes\n"
      ],
      "metadata": {
        "id": "tAM9hP486YF6"
      }
    },
    {
      "cell_type": "code",
      "source": [
        "finding_specific_template = \"\"\"\n",
        "### INSTRUCTION\n",
        "You are a specialist in chest X-ray reports.\n",
        "Your task is to classify a report as positive if it describes signs of {looking_for}, such as:\n",
        "{examples}\n",
        "Consider the finding positive even if it is mild.\n",
        "Your response should be in JSON format with the key 'classification' and the possible values: 'present' or 'absent'.\n",
        "\n",
        "### REPORT TO CLASSIFY\n",
        "{report}\n",
        "\"\"\"\n",
        "\n",
        "looking_for = \"COPD (Chronic Obstructive Pulmonary Disease)\"\n",
        "\n",
        "examples = \"\"\"\n",
        "- Hyperinflated lungs.\n",
        "- Flattened diaphragm.\n",
        "- Increased retrosternal airspace.\n",
        "- Narrowed cardiac silhouette.\n",
        "- Emphysematous changes.\n",
        "\"\"\"\n",
        "\n",
        "print(f\"\\n{looking_for.capitalize()} Detection\")\n",
        "print(f\"Examples: {examples}\")\n",
        "\n",
        "\n",
        "results = classify_multiple_reports(df,\n",
        "                                    n_reports=10,\n",
        "                                    template=finding_specific_template,\n",
        "                                    looking_for=looking_for,\n",
        "                                    examples=examples,\n",
        "                                    seed=42)\n",
        "\n",
        "display_results(results, show_original_label=False)"
      ],
      "metadata": {
        "id": "Vl69b67G6XZ_"
      },
      "execution_count": null,
      "outputs": []
    },
    {
      "cell_type": "markdown",
      "source": [
        "# Conclusion & Next Steps 📌\n",
        "\n",
        "Through this notebook, we've explored how **prompt engineering** enhances the classification of radiology reports using LLMs.\n",
        "\n",
        "### Key Takeaways:\n",
        "✅ **Zero-shot prompting** enables classification without prior examples.  \n",
        "✅ **Few-shot prompting** improves accuracy by providing labeled examples.  \n",
        "✅ **Condition-specific classification** allows targeted detection of medical conditions.  \n",
        "\n",
        "### What’s Next?\n",
        "Now that you understand the fundamentals, here are some next steps:\n",
        "1. **Test additional conditions** by modifying the `{looking_for}` and `{examples}` variables.\n",
        "2. **Experiment with different LLM models** to compare performance.\n",
        "3. **Refine your prompts** to improve classification accuracy.\n",
        "4. **Apply real-world datasets** to validate the model in clinical settings.\n",
        "\n",
        "By leveraging **LLMs and prompt engineering**, we can enhance efficiency in **radiology report classification**, aiding medical professionals in making informed decisions. 🏥💡\n",
        "\n",
        "---\n",
        "\n",
        "### Acknowledgment  \n",
        "This project utilizes an **open-access chest X-ray collection** from **Indiana University**, sourced from the **OpenI repository** ([OpenI](https://openi.nlm.nih.gov/)). We acknowledge and appreciate the efforts of the dataset creators in making this valuable resource available for research and analysis.\n",
        "\n",
        "---\n",
        "\n",
        "### Credits\n",
        "This notebook is adapted from work by **Paulo Kuriki** and **Felipe Kitamura**.\n",
        "\n"
      ],
      "metadata": {
        "id": "S-HzYkVcq4H-"
      }
    },
    {
      "cell_type": "code",
      "source": [],
      "metadata": {
        "id": "Rx3CrCQ25tKg"
      },
      "execution_count": null,
      "outputs": []
    }
  ]
}