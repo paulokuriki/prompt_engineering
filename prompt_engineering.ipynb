{
  "nbformat": 4,
  "nbformat_minor": 0,
  "metadata": {
    "colab": {
      "provenance": [],
      "gpuType": "T4",
      "authorship_tag": "ABX9TyOG5R+L2Eu/wGyYlKPswIYF",
      "include_colab_link": true
    },
    "kernelspec": {
      "name": "python3",
      "display_name": "Python 3"
    },
    "language_info": {
      "name": "python"
    },
    "accelerator": "GPU"
  },
  "cells": [
    {
      "cell_type": "markdown",
      "metadata": {
        "id": "view-in-github",
        "colab_type": "text"
      },
      "source": [
        "<a href=\"https://colab.research.google.com/github/paulokuriki/prompt_engineering/blob/main/prompt_engineering.ipynb\" target=\"_parent\"><img src=\"https://colab.research.google.com/assets/colab-badge.svg\" alt=\"Open In Colab\"/></a>"
      ]
    },
    {
      "cell_type": "markdown",
      "source": [
        "# 📑 **Radiology Report Classification with Large Language Models**\n",
        "\n",
        "## **Learning Objectives**\n",
        "\n",
        "By the end of this session, you will be able to:\n",
        "\n",
        "\n",
        "✅ Understand how Large Language Models (LLMs) assist in radiology report classification.  \n",
        "✅ Apply effective prompting techniques for medical report analysis.  \n",
        "✅ Develop specialized classifiers for different radiological findings.  \n",
        "\n",
        "---\n",
        "\n",
        "## **Introduction**\n",
        "Radiologists frequently need to classify reports based on specific findings or conditions. **Large Language Models (LLMs)** can streamline this process, improving efficiency and consistency in medical report classification. This tutorial demonstrates how to leverage LLMs for various classification tasks in radiology.\n",
        "\n",
        "---\n",
        "\n",
        "## **Dataset: Indiana Chest X-ray Collection**\n",
        "This notebook processes the **Indiana Chest X-ray Collection**, a publicly available dataset provided by the **National Library of Medicine (NLM), National Institutes of Health (NIH),** in collaboration with **Indiana University**.\n",
        "\n",
        "### 🎯 **Acknowledgment**\n",
        "- **Dataset Source**: [Open-i (NLM)](https://openi.nlm.nih.gov/)  \n",
        "- **Reference Paper**:  \n",
        "  > **Demner-Fushman D, Kohli MD, Rosenman MB, Shooshan SE, Rodriguez L, Antani S, Thoma GR, McDonald CJ.**  \n",
        "  > *Preparing a collection of radiology examinations for distribution and retrieval.*  \n",
        "  > J Am Med Inform Assoc. 2016 Mar;23(2):304-10.  \n",
        "  > DOI: [10.1093/jamia/ocv080](https://doi.org/10.1093/jamia/ocv080)  \n",
        "  > PMID: [26133894](https://pubmed.ncbi.nlm.nih.gov/26133894/) | PMCID: [PMC5009925](https://www.ncbi.nlm.nih.gov/pmc/articles/PMC5009925/)  "
      ],
      "metadata": {
        "id": "TjB-Gp_irs_p"
      }
    },
    {
      "cell_type": "markdown",
      "source": [
        "## **Setup and Data Loading**\n",
        "To begin, we'll install the required libraries and load the dataset."
      ],
      "metadata": {
        "id": "CUF0mJun0Mlo"
      }
    },
    {
      "cell_type": "code",
      "source": [
        "pip install langchain_openai langchain-ollama"
      ],
      "metadata": {
        "colab": {
          "base_uri": "https://localhost:8080/"
        },
        "collapsed": true,
        "id": "FZq6ldkz0bRc",
        "outputId": "cb620f7f-c1d8-4707-c195-674178869d0c"
      },
      "execution_count": 1,
      "outputs": [
        {
          "output_type": "stream",
          "name": "stdout",
          "text": [
            "Collecting langchain_openai\n",
            "  Downloading langchain_openai-0.3.7-py3-none-any.whl.metadata (2.3 kB)\n",
            "Collecting langchain-ollama\n",
            "  Downloading langchain_ollama-0.2.3-py3-none-any.whl.metadata (1.9 kB)\n",
            "Requirement already satisfied: langchain-core<1.0.0,>=0.3.39 in /usr/local/lib/python3.11/dist-packages (from langchain_openai) (0.3.40)\n",
            "Requirement already satisfied: openai<2.0.0,>=1.58.1 in /usr/local/lib/python3.11/dist-packages (from langchain_openai) (1.61.1)\n",
            "Collecting tiktoken<1,>=0.7 (from langchain_openai)\n",
            "  Downloading tiktoken-0.9.0-cp311-cp311-manylinux_2_17_x86_64.manylinux2014_x86_64.whl.metadata (6.7 kB)\n",
            "Collecting ollama<1,>=0.4.4 (from langchain-ollama)\n",
            "  Downloading ollama-0.4.7-py3-none-any.whl.metadata (4.7 kB)\n",
            "Requirement already satisfied: langsmith<0.4,>=0.1.125 in /usr/local/lib/python3.11/dist-packages (from langchain-core<1.0.0,>=0.3.39->langchain_openai) (0.3.11)\n",
            "Requirement already satisfied: tenacity!=8.4.0,<10.0.0,>=8.1.0 in /usr/local/lib/python3.11/dist-packages (from langchain-core<1.0.0,>=0.3.39->langchain_openai) (9.0.0)\n",
            "Requirement already satisfied: jsonpatch<2.0,>=1.33 in /usr/local/lib/python3.11/dist-packages (from langchain-core<1.0.0,>=0.3.39->langchain_openai) (1.33)\n",
            "Requirement already satisfied: PyYAML>=5.3 in /usr/local/lib/python3.11/dist-packages (from langchain-core<1.0.0,>=0.3.39->langchain_openai) (6.0.2)\n",
            "Requirement already satisfied: packaging<25,>=23.2 in /usr/local/lib/python3.11/dist-packages (from langchain-core<1.0.0,>=0.3.39->langchain_openai) (24.2)\n",
            "Requirement already satisfied: typing-extensions>=4.7 in /usr/local/lib/python3.11/dist-packages (from langchain-core<1.0.0,>=0.3.39->langchain_openai) (4.12.2)\n",
            "Requirement already satisfied: pydantic<3.0.0,>=2.5.2 in /usr/local/lib/python3.11/dist-packages (from langchain-core<1.0.0,>=0.3.39->langchain_openai) (2.10.6)\n",
            "Requirement already satisfied: httpx<0.29,>=0.27 in /usr/local/lib/python3.11/dist-packages (from ollama<1,>=0.4.4->langchain-ollama) (0.28.1)\n",
            "Requirement already satisfied: anyio<5,>=3.5.0 in /usr/local/lib/python3.11/dist-packages (from openai<2.0.0,>=1.58.1->langchain_openai) (3.7.1)\n",
            "Requirement already satisfied: distro<2,>=1.7.0 in /usr/local/lib/python3.11/dist-packages (from openai<2.0.0,>=1.58.1->langchain_openai) (1.9.0)\n",
            "Requirement already satisfied: jiter<1,>=0.4.0 in /usr/local/lib/python3.11/dist-packages (from openai<2.0.0,>=1.58.1->langchain_openai) (0.8.2)\n",
            "Requirement already satisfied: sniffio in /usr/local/lib/python3.11/dist-packages (from openai<2.0.0,>=1.58.1->langchain_openai) (1.3.1)\n",
            "Requirement already satisfied: tqdm>4 in /usr/local/lib/python3.11/dist-packages (from openai<2.0.0,>=1.58.1->langchain_openai) (4.67.1)\n",
            "Requirement already satisfied: regex>=2022.1.18 in /usr/local/lib/python3.11/dist-packages (from tiktoken<1,>=0.7->langchain_openai) (2024.11.6)\n",
            "Requirement already satisfied: requests>=2.26.0 in /usr/local/lib/python3.11/dist-packages (from tiktoken<1,>=0.7->langchain_openai) (2.32.3)\n",
            "Requirement already satisfied: idna>=2.8 in /usr/local/lib/python3.11/dist-packages (from anyio<5,>=3.5.0->openai<2.0.0,>=1.58.1->langchain_openai) (3.10)\n",
            "Requirement already satisfied: certifi in /usr/local/lib/python3.11/dist-packages (from httpx<0.29,>=0.27->ollama<1,>=0.4.4->langchain-ollama) (2025.1.31)\n",
            "Requirement already satisfied: httpcore==1.* in /usr/local/lib/python3.11/dist-packages (from httpx<0.29,>=0.27->ollama<1,>=0.4.4->langchain-ollama) (1.0.7)\n",
            "Requirement already satisfied: h11<0.15,>=0.13 in /usr/local/lib/python3.11/dist-packages (from httpcore==1.*->httpx<0.29,>=0.27->ollama<1,>=0.4.4->langchain-ollama) (0.14.0)\n",
            "Requirement already satisfied: jsonpointer>=1.9 in /usr/local/lib/python3.11/dist-packages (from jsonpatch<2.0,>=1.33->langchain-core<1.0.0,>=0.3.39->langchain_openai) (3.0.0)\n",
            "Requirement already satisfied: orjson<4.0.0,>=3.9.14 in /usr/local/lib/python3.11/dist-packages (from langsmith<0.4,>=0.1.125->langchain-core<1.0.0,>=0.3.39->langchain_openai) (3.10.15)\n",
            "Requirement already satisfied: requests-toolbelt<2.0.0,>=1.0.0 in /usr/local/lib/python3.11/dist-packages (from langsmith<0.4,>=0.1.125->langchain-core<1.0.0,>=0.3.39->langchain_openai) (1.0.0)\n",
            "Requirement already satisfied: zstandard<0.24.0,>=0.23.0 in /usr/local/lib/python3.11/dist-packages (from langsmith<0.4,>=0.1.125->langchain-core<1.0.0,>=0.3.39->langchain_openai) (0.23.0)\n",
            "Requirement already satisfied: annotated-types>=0.6.0 in /usr/local/lib/python3.11/dist-packages (from pydantic<3.0.0,>=2.5.2->langchain-core<1.0.0,>=0.3.39->langchain_openai) (0.7.0)\n",
            "Requirement already satisfied: pydantic-core==2.27.2 in /usr/local/lib/python3.11/dist-packages (from pydantic<3.0.0,>=2.5.2->langchain-core<1.0.0,>=0.3.39->langchain_openai) (2.27.2)\n",
            "Requirement already satisfied: charset-normalizer<4,>=2 in /usr/local/lib/python3.11/dist-packages (from requests>=2.26.0->tiktoken<1,>=0.7->langchain_openai) (3.4.1)\n",
            "Requirement already satisfied: urllib3<3,>=1.21.1 in /usr/local/lib/python3.11/dist-packages (from requests>=2.26.0->tiktoken<1,>=0.7->langchain_openai) (2.3.0)\n",
            "Downloading langchain_openai-0.3.7-py3-none-any.whl (55 kB)\n",
            "\u001b[2K   \u001b[90m━━━━━━━━━━━━━━━━━━━━━━━━━━━━━━━━━━━━━━━━\u001b[0m \u001b[32m55.3/55.3 kB\u001b[0m \u001b[31m2.0 MB/s\u001b[0m eta \u001b[36m0:00:00\u001b[0m\n",
            "\u001b[?25hDownloading langchain_ollama-0.2.3-py3-none-any.whl (19 kB)\n",
            "Downloading ollama-0.4.7-py3-none-any.whl (13 kB)\n",
            "Downloading tiktoken-0.9.0-cp311-cp311-manylinux_2_17_x86_64.manylinux2014_x86_64.whl (1.2 MB)\n",
            "\u001b[2K   \u001b[90m━━━━━━━━━━━━━━━━━━━━━━━━━━━━━━━━━━━━━━━━\u001b[0m \u001b[32m1.2/1.2 MB\u001b[0m \u001b[31m43.4 MB/s\u001b[0m eta \u001b[36m0:00:00\u001b[0m\n",
            "\u001b[?25hInstalling collected packages: tiktoken, ollama, langchain_openai, langchain-ollama\n",
            "Successfully installed langchain-ollama-0.2.3 langchain_openai-0.3.7 ollama-0.4.7 tiktoken-0.9.0\n"
          ]
        }
      ]
    },
    {
      "cell_type": "code",
      "source": [
        "import csv\n",
        "import glob\n",
        "import json\n",
        "import os\n",
        "import random\n",
        "import shutil\n",
        "import subprocess\n",
        "import tarfile\n",
        "import threading\n",
        "import time\n",
        "import xml.etree.ElementTree as ET\n",
        "\n",
        "from IPython.display import HTML, display\n",
        "from langchain_openai import ChatOpenAI\n",
        "from langchain_ollama import ChatOllama\n",
        "import pandas as pd\n",
        "import requests\n",
        "from tqdm import tqdm"
      ],
      "metadata": {
        "id": "69Nv6EbI0JND"
      },
      "execution_count": 2,
      "outputs": []
    },
    {
      "cell_type": "markdown",
      "source": [
        "## **Dataset Processing**\n",
        "### **Steps**\n",
        "1. **Download**: Retrieve the dataset from the official NLM repository.  \n",
        "2. **Extract**: Unpack the `.tgz` archive.  \n",
        "3. **Parse**: Extract the **Findings** section from each radiology report.  \n",
        "4. **Label**: Assign a **normal** or **abnormal** classification based on MeSH (Medical Subject Headings) terms.  \n",
        "5. **Export**: Save the processed data as a **CSV file**.  "
      ],
      "metadata": {
        "id": "89bKsPfRITq5"
      }
    },
    {
      "cell_type": "code",
      "source": [
        "# Define URLs and paths\n",
        "TGZ_URL = \"https://openi.nlm.nih.gov/imgs/collections/NLMCXR_reports.tgz\"\n",
        "TGZ_FILE = \"NLMCXR_reports.tgz\"\n",
        "EXTRACT_DIR = \"NLMCXR_reports_extracted\"\n",
        "XML_FOLDER = os.path.join(EXTRACT_DIR, \"ecgen-radiology\")\n",
        "OUTPUT_CSV = \"converted_reports.csv\"\n",
        "\n",
        "def run_with_feedback(func, description):\n",
        "    \"\"\"Run a function with feedback messages.\"\"\"\n",
        "    print(f\"\\n🔄 {description}...\")\n",
        "    func()\n",
        "    print(f\"✅ {description} completed successfully!\\n\")\n",
        "\n",
        "def clean_up():\n",
        "    \"\"\"Remove old files and directories if they exist.\"\"\"\n",
        "    if os.path.exists(TGZ_FILE):\n",
        "        os.remove(TGZ_FILE)\n",
        "    if os.path.exists(EXTRACT_DIR):\n",
        "        shutil.rmtree(EXTRACT_DIR)\n",
        "    if os.path.exists(OUTPUT_CSV):\n",
        "        os.remove(OUTPUT_CSV)\n",
        "\n",
        "def download_file():\n",
        "    \"\"\"Download the dataset file.\"\"\"\n",
        "    #print(\"🔄 Downloading dataset...\")\n",
        "    response = requests.get(TGZ_URL, stream=True)\n",
        "    response.raise_for_status()\n",
        "    with open(TGZ_FILE, \"wb\") as f:\n",
        "        for chunk in response.iter_content(chunk_size=8192):\n",
        "            f.write(chunk)\n",
        "    print(\"✅ Dataset downloaded successfully!\")\n",
        "\n",
        "def extract_tgz():\n",
        "    \"\"\"Extract the dataset files.\"\"\"\n",
        "    #print(\"🔄 Extracting dataset files...\")\n",
        "    with tarfile.open(TGZ_FILE, \"r:gz\") as tar:\n",
        "        tar.extractall(EXTRACT_DIR)\n",
        "    print(\"✅ Files extracted successfully!\")\n",
        "\n",
        "def parse_xml_file(xml_path):\n",
        "    \"\"\"Parse a single XML file to extract findings and MeSH terms.\"\"\"\n",
        "    try:\n",
        "        tree = ET.parse(xml_path)\n",
        "        root = tree.getroot()\n",
        "\n",
        "        # Extract AbstractText elements\n",
        "        abstract_texts = root.findall(\".//AbstractText\")\n",
        "\n",
        "        # Extract only the \"Findings\" section\n",
        "        findings_text = \"\"\n",
        "        for abstract in abstract_texts:\n",
        "            label = abstract.attrib.get(\"Label\", \"\").lower()\n",
        "            if label == \"findings\":\n",
        "                findings_text = abstract.text.strip() if abstract.text else \"\"\n",
        "                break  # Stop after finding the \"Findings\" section\n",
        "\n",
        "        # Extract MeSH terms\n",
        "        mesh_major_list = [m.text.strip() for m in root.findall(\".//MeSH/major\") if m.text]\n",
        "        mesh_major = \"|\".join(mesh_major_list) if mesh_major_list else \"\"\n",
        "\n",
        "        return findings_text, mesh_major\n",
        "    except:\n",
        "        return \"\", \"\"\n",
        "\n",
        "def download_prepare_dataset():\n",
        "    \"\"\"Handles dataset downloading, extraction, and conversion to CSV.\"\"\"\n",
        "    run_with_feedback(clean_up, \"Cleaning up old files\")\n",
        "\n",
        "    run_with_feedback(download_file, \"Downloading dataset\")\n",
        "\n",
        "    run_with_feedback(extract_tgz, \"Extracting dataset\")\n",
        "\n",
        "    xml_files = glob.glob(os.path.join(XML_FOLDER, \"*.xml\"))\n",
        "\n",
        "    print(f\"\\n🔄 Processing {len(xml_files)} XML files...\")\n",
        "    reports = [parse_xml_file(xml_file) for xml_file in tqdm(xml_files, desc=\"🔍 Parsing XML files\")]\n",
        "    print(f\"✅ Processing completed! Total parsed reports: {len(reports)}\\n\")\n",
        "\n",
        "    # Save reports to CSV\n",
        "    print(\"🔄 Saving extracted data to CSV...\")\n",
        "    with open(OUTPUT_CSV, \"w\", newline=\"\", encoding=\"utf-8\") as csvfile:\n",
        "        writer = csv.writer(csvfile)\n",
        "        writer.writerow([\"Report\", \"MeSH Major\"])\n",
        "        for report, mesh_major in reports:\n",
        "            writer.writerow([report, mesh_major])\n",
        "    print(f\"✅ Data saved to {OUTPUT_CSV}!\")\n",
        "\n",
        "    # Load and clean the dataset\n",
        "    df = pd.read_csv(OUTPUT_CSV)\n",
        "    print(f\"\\n🔄 Cleaning dataset... {len(df)} entries found.\")\n",
        "\n",
        "    df[\"label\"] = df[\"MeSH Major\"].apply(lambda x: \"normal\" if x == \"normal\" else \"abnormal\")\n",
        "    df.rename(columns={\"Report\": \"report\"}, inplace=True)\n",
        "    df = df.map(lambda x: x.strip() if isinstance(x, str) else x)\n",
        "    df = df.replace('', pd.NA).dropna().reset_index(drop=True)\n",
        "    df.to_csv(OUTPUT_CSV, index=False)\n",
        "\n",
        "    print(\"✅ Dataset preparation completed!\")\n",
        "    return df\n",
        "\n",
        "# ✅ Run the full pipeline with feedback\n",
        "df = download_prepare_dataset()\n",
        "\n",
        "# Show data distribution\n",
        "print(f'\\n✅ Dataset ready! Total sample reports: {len(df)}')\n",
        "print(df.label.value_counts())\n"
      ],
      "metadata": {
        "colab": {
          "base_uri": "https://localhost:8080/"
        },
        "id": "sA5_fdzk0VPM",
        "outputId": "c39eccca-4f2b-4579-d2fe-3e10bc69b97c"
      },
      "execution_count": 3,
      "outputs": [
        {
          "output_type": "stream",
          "name": "stdout",
          "text": [
            "\n",
            "🔄 Cleaning up old files...\n",
            "✅ Cleaning up old files completed successfully!\n",
            "\n",
            "\n",
            "🔄 Downloading dataset...\n",
            "✅ Dataset downloaded successfully!\n",
            "✅ Downloading dataset completed successfully!\n",
            "\n",
            "\n",
            "🔄 Extracting dataset...\n",
            "✅ Files extracted successfully!\n",
            "✅ Extracting dataset completed successfully!\n",
            "\n",
            "\n",
            "🔄 Processing 3955 XML files...\n"
          ]
        },
        {
          "output_type": "stream",
          "name": "stderr",
          "text": [
            "🔍 Parsing XML files: 100%|██████████| 3955/3955 [00:02<00:00, 1879.77it/s]\n"
          ]
        },
        {
          "output_type": "stream",
          "name": "stdout",
          "text": [
            "✅ Processing completed! Total parsed reports: 3955\n",
            "\n",
            "🔄 Saving extracted data to CSV...\n",
            "✅ Data saved to converted_reports.csv!\n",
            "\n",
            "🔄 Cleaning dataset... 3955 entries found.\n",
            "✅ Dataset preparation completed!\n",
            "\n",
            "✅ Dataset ready! Total sample reports: 3425\n",
            "label\n",
            "abnormal    2219\n",
            "normal      1206\n",
            "Name: count, dtype: int64\n"
          ]
        }
      ]
    },
    {
      "cell_type": "markdown",
      "source": [
        "Installing Ollama"
      ],
      "metadata": {
        "id": "eymuQHCZrbDK"
      }
    },
    {
      "cell_type": "code",
      "source": [
        "MODEL_NAME = \"llama3.1:8b\"  # Change model name as needed\n",
        "\n",
        "def run_command_with_feedback(command, description=None, check_existing=False):\n",
        "    \"\"\"Run a shell command with a description and print feedback.\"\"\"\n",
        "    if description is None:\n",
        "        description = command\n",
        "    print(f\"\\n🔄 {description}...\")\n",
        "\n",
        "    if check_existing:\n",
        "        result = subprocess.run(command, shell=True, stdout=subprocess.PIPE, stderr=subprocess.PIPE, text=True)\n",
        "        if result.returncode == 0:\n",
        "            print(f\"✅ {description} already completed, skipping.\")\n",
        "            return\n",
        "\n",
        "    subprocess.run(command, shell=True, check=True)\n",
        "    print(f\"✅ {description} completed!\")\n",
        "\n",
        "def is_ollama_installed():\n",
        "    \"\"\"Check if Ollama is already installed.\"\"\"\n",
        "    result = subprocess.run(\"command -v ollama\", shell=True, stdout=subprocess.PIPE, stderr=subprocess.PIPE)\n",
        "    return result.returncode == 0  # If the command returns 0, Ollama is installed\n",
        "\n",
        "def is_ollama_running():\n",
        "    \"\"\"Check if Ollama server is running using its API.\"\"\"\n",
        "    try:\n",
        "        response = requests.get(\"http://localhost:11434/api/tags\", timeout=2)\n",
        "        return response.status_code == 200\n",
        "    except requests.RequestException:\n",
        "        return False  # Server is not running or unreachable\n",
        "\n",
        "def is_model_downloaded(model_name):\n",
        "    \"\"\"Check if a model is already downloaded in Ollama.\"\"\"\n",
        "    result = subprocess.run([\"ollama\", \"list\"], stdout=subprocess.PIPE, stderr=subprocess.PIPE, text=True)\n",
        "    return model_name in result.stdout\n",
        "\n",
        "def install_ollama():\n",
        "    \"\"\"Installs Ollama in Google Colab if not already installed.\"\"\"\n",
        "    if is_ollama_installed():\n",
        "        print(\"✅ Ollama is already installed, skipping installation.\")\n",
        "        return\n",
        "\n",
        "    print(\"\\n🔄 Installing Ollama. This may take a few minutes...\")\n",
        "    run_command_with_feedback(\"apt update\", \"Updating package list\")\n",
        "    run_command_with_feedback(\"apt install -y pciutils\", \"Installing pciutils\")\n",
        "    run_command_with_feedback(\"curl -fsSL https://ollama.com/install.sh | sh\", \"Downloading and installing Ollama\")\n",
        "    print(\"✅ Ollama installed successfully!\")\n",
        "\n",
        "def start_ollama_server(silent=True):\n",
        "    \"\"\"Starts the Ollama server in a background thread if not already running.\"\"\"\n",
        "    if is_ollama_running():\n",
        "        if not silent:\n",
        "            print(\"✅ Ollama server is already running.\")\n",
        "            return\n",
        "\n",
        "    if not silent:\n",
        "        print(\"\\n🚀 Starting Ollama server...\")\n",
        "    thread = threading.Thread(target=lambda: subprocess.run([\"ollama\", \"serve\"], check=True))\n",
        "    thread.start()\n",
        "    time.sleep(5)  # Give it time to start\n",
        "    if is_ollama_running():\n",
        "        if not silent:\n",
        "            print(\"✅ Ollama server is running!\")\n",
        "        return True\n",
        "    else:\n",
        "        if not silent:\n",
        "            print(\"⚠️ Ollama server failed to start. Check for issues!\")\n",
        "        return False\n",
        "\n",
        "def pull_model(model_name):\n",
        "    \"\"\"Downloads the model for Ollama if not already downloaded.\"\"\"\n",
        "    if is_model_downloaded(model_name):\n",
        "        print(f\"✅ Model '{model_name}' is already downloaded, skipping.\")\n",
        "        return\n",
        "\n",
        "    print(f\"\\n🔄 Pulling model: {model_name}...\")\n",
        "    subprocess.run([\"ollama\", \"pull\", model_name], check=True)\n",
        "    print(f\"✅ Model '{model_name}' downloaded successfully!\")\n",
        "\n",
        "def load_model_into_vram(model_name = MODEL_NAME):\n",
        "    \"\"\"Sends a keep-alive request to ensure the model stays loaded in memory.\"\"\"\n",
        "    print(f\"🔄 Sending keep-alive request for '{model_name}'...\")\n",
        "    try:\n",
        "        response = requests.post(\"http://localhost:11434/api/generate\",\n",
        "                                 json={\"model\": model_name,\n",
        "                                       \"prompt\": \"Simply respond with 'Hi'\",\n",
        "                                       \"stream\": False,\n",
        "                                       \"keep_alive\": -1},\n",
        "                                 timeout=20)\n",
        "        if response.status_code == 200:\n",
        "            print(f\"✅ Model '{model_name}' is now preloaded in memory!\")\n",
        "        else:\n",
        "            print(f\"⚠️ Failed to keep model '{model_name}' in memory. Response: {response.status_code}\")\n",
        "    except requests.RequestException as e:\n",
        "        print(f\"⚠️ Keep-alive request failed: {e}\")\n",
        "\n",
        "# ✅ Run the complete setup with verification\n",
        "install_ollama()\n",
        "start_ollama_server()\n",
        "pull_model(MODEL_NAME)\n",
        "load_model_into_vram(MODEL_NAME)\n"
      ],
      "metadata": {
        "colab": {
          "base_uri": "https://localhost:8080/"
        },
        "id": "n5So_wIJraYv",
        "outputId": "6e237345-58b7-4842-f5fe-0e61fbbe2d71"
      },
      "execution_count": 4,
      "outputs": [
        {
          "output_type": "stream",
          "name": "stdout",
          "text": [
            "\n",
            "🔄 Installing Ollama. This may take a few minutes...\n",
            "\n",
            "🔄 Updating package list...\n",
            "✅ Updating package list completed!\n",
            "\n",
            "🔄 Installing pciutils...\n",
            "✅ Installing pciutils completed!\n",
            "\n",
            "🔄 Downloading and installing Ollama...\n",
            "✅ Downloading and installing Ollama completed!\n",
            "✅ Ollama installed successfully!\n",
            "\n",
            "🔄 Pulling model: llama3.1:8b...\n",
            "✅ Model 'llama3.1:8b' downloaded successfully!\n",
            "🔄 Sending keep-alive request for 'llama3.1:8b'...\n",
            "✅ Model 'llama3.1:8b' is now preloaded in memory!\n"
          ]
        }
      ]
    },
    {
      "cell_type": "markdown",
      "source": [
        "## **Classification with Large Language Models (LLMs)**\n",
        "To facilitate classification, we define functions that analyze radiology reports using LLMs."
      ],
      "metadata": {
        "id": "IUjtTdRd0zUD"
      }
    },
    {
      "cell_type": "code",
      "execution_count": 5,
      "metadata": {
        "id": "OQTbrtDHync1"
      },
      "outputs": [],
      "source": [
        "def classify_report(report, template, looking_for=None, examples=None, max_retries=3):\n",
        "    \"\"\"\n",
        "    Classify a radiology report using an LLM with a retry mechanism.\n",
        "\n",
        "    Before each attempt, check if the Ollama server is actively responding.\n",
        "    If it appears idle, the function will refresh the server and reload the model.\n",
        "    \"\"\"\n",
        "    model = MODEL_NAME\n",
        "    for attempt in range(max_retries):\n",
        "        # Check if the server is active; if not, refresh it.\n",
        "        if not is_ollama_running():\n",
        "            start_ollama_server(silent=True)\n",
        "\n",
        "        try:\n",
        "            if 'gpt' in model:\n",
        "                # Initialize the OpenAI model (requires a valid API key)\n",
        "                llm = ChatOpenAI(\n",
        "                    model=\"gpt-4o-mini-2024-07-18\",\n",
        "                    temperature=0,\n",
        "                    seed=42,\n",
        "                    model_kwargs={\"response_format\": {\"type\": \"json_object\"}}\n",
        "                )\n",
        "            else:\n",
        "                # Initialize the Ollama model\n",
        "                llm = ChatOllama(\n",
        "                    model=model,\n",
        "                    base_url=\"localhost:11434\",\n",
        "                    format='json',\n",
        "                    keep_alive=-1,\n",
        "                    temperature=0,\n",
        "                    seed=42,\n",
        "                    model_kwargs={\"seed\": 42, \"response_format\": {\"type\": \"json_object\"}}\n",
        "                )\n",
        "\n",
        "            # Prepare the prompt using the provided template.\n",
        "            if looking_for and examples:\n",
        "                prompt = template.format(report=report, looking_for=looking_for, examples=examples)\n",
        "            else:\n",
        "                prompt = template.format(report=report)\n",
        "\n",
        "            response = llm.invoke(prompt)\n",
        "            result = json.loads(response.content.lower())\n",
        "            return result['classification']\n",
        "        except Exception as e:\n",
        "            print(f\"⚠️ Issue during classification attempt {attempt + 1}: {e}\")\n",
        "            # If the server appears idle, refresh it.\n",
        "            if not is_ollama_running():\n",
        "                start_ollama_server(silent=True)\n",
        "\n",
        "    print(\"⚠️ Unable to complete the classification after several attempts. Please re-run the cell if necessary.\")\n",
        "    return 'error'\n",
        "\n",
        "\n",
        "def classify_multiple_reports(df, n_reports=5, template=None, looking_for=None, examples=None, seed=44):\n",
        "    \"\"\"Classify multiple random reports.\"\"\"\n",
        "    results = []\n",
        "    random.seed(seed)  # Set seed for reproducibility\n",
        "    report_indices = random.sample(range(len(df)), n_reports)\n",
        "\n",
        "    if not is_ollama_running():\n",
        "        start_ollama_server(silent=True)\n",
        "\n",
        "    for idx in tqdm(report_indices, desc=\"Classifying reports\"):\n",
        "        report = df.iloc[idx]['report']\n",
        "        label = df.iloc[idx]['label']\n",
        "        prediction = classify_report(report, template, looking_for, examples)\n",
        "        results.append({\n",
        "            'index': idx,\n",
        "            'report': report,\n",
        "            'original_label': label,\n",
        "            'predicted_label': prediction\n",
        "        })\n",
        "\n",
        "    return results\n",
        "\n",
        "def display_results(results, show_original_label=True):\n",
        "    \"\"\"Display classification results in a readable format\"\"\"\n",
        "\n",
        "    for r in results:\n",
        "        print(f\"\\nReport #{r['index']}:\")\n",
        "        print(\"=\" * 50)\n",
        "        print(f\"Report text:\")\n",
        "        display(r['report'])\n",
        "        print(\"-\" * 50)\n",
        "\n",
        "        if show_original_label:\n",
        "            # Compare prediction with the original label\n",
        "            is_correct = r['original_label'].lower() == r['predicted_label'].lower()\n",
        "            classification = 'Correct' if is_correct else 'Wrong'\n",
        "            classification_icon = '✅' if is_correct else '👎'\n",
        "            print(f\"Original Label : {r['original_label']}\")\n",
        "            print(f\"Predicted Label: {r['predicted_label']}\")\n",
        "            print(f\"Classification : {classification} {classification_icon}\")\n",
        "\n",
        "        else:\n",
        "            # Only show predicted classification when original label is hidden\n",
        "            is_correct = r['predicted_label'].lower() == \"present\"\n",
        "            classification_icon = '✓✓✓' if is_correct else 'xxx'\n",
        "            classification_icon = '✅' if is_correct else '👎'\n",
        "            print(f\"Finding: {r['predicted_label']} {classification_icon}\")\n",
        "\n",
        "        print()\n",
        "\n",
        "\n",
        "    total = len(results)\n",
        "    print(\"SUMMARY:\")\n",
        "    print(\"=\" * 50)\n",
        "    print(f\"\\nAnalyzed {total} reports\")\n",
        "\n",
        "    # Show accuracy if original labels are available\n",
        "    if show_original_label:\n",
        "        correct = sum(1 for r in results if r['original_label'].lower() == r['predicted_label'].lower())\n",
        "\n",
        "        print(f\"Correct predictions: {correct}\")\n",
        "        print(f\"Accuracy: {(correct/total)*100:.1f}%\\n\")\n"
      ]
    },
    {
      "cell_type": "markdown",
      "source": [
        "# **Let's Try It Out!** 🏥\n",
        "\n",
        "## **Zero-Shot Classification**\n",
        "In **zero-shot classification**, the model determines whether a given chest X-ray report describes a normal or abnormal case without prior examples.\n",
        "\n",
        "\n",
        "### How It Works:\n",
        "**Prompt Template:**  \n",
        "- The model receives a structured instruction to classify reports.\n",
        "- The response format is **JSON**, containing the key **\"classification\"** with possible values: `\"normal\"` or `\"abnormal\"`.\n",
        "- The `{report}` placeholder is replaced with an actual chest X-ray report before passing it to the model.\n"
      ],
      "metadata": {
        "id": "lz6W0gxs04-Q"
      }
    },
    {
      "cell_type": "code",
      "source": [
        "zero_shot_prompt_template = \"\"\"\n",
        "### INSTRUCTION\n",
        "You are a specialist in chest X-ray reports. Your task is to classify whether a report is normal or abnormal.\n",
        "Your response should be in JSON format with the key \"classification\" and the possible values: \"normal\" or \"abnormal\".\n",
        "\n",
        "### REPORT TO CLASSIFY\n",
        "{report}\n",
        "\"\"\"\n",
        "\n",
        "\n",
        "#for seed in range(20, 100):\n",
        "#    print(seed)\n",
        "seed=42\n",
        "results = classify_multiple_reports(df, n_reports=1, template=zero_shot_prompt_template, seed=seed)\n",
        "display_results(results, show_original_label=True)\n"
      ],
      "metadata": {
        "colab": {
          "base_uri": "https://localhost:8080/",
          "height": 330
        },
        "id": "48x9wcTL0_m9",
        "outputId": "ad45c7c8-6228-476e-9381-8b74642a21f1"
      },
      "execution_count": 6,
      "outputs": [
        {
          "output_type": "stream",
          "name": "stderr",
          "text": [
            "Classifying reports: 100%|██████████| 1/1 [00:00<00:00,  1.43it/s]"
          ]
        },
        {
          "output_type": "stream",
          "name": "stdout",
          "text": [
            "\n",
            "Report #2619:\n",
            "==================================================\n",
            "Report text:\n"
          ]
        },
        {
          "output_type": "stream",
          "name": "stderr",
          "text": [
            "\n"
          ]
        },
        {
          "output_type": "display_data",
          "data": {
            "text/plain": [
              "'Cardiac and mediastinal contours are within normal limits. The lungs are clear. Bony structures are intact. Small hiatal hernia.'"
            ],
            "application/vnd.google.colaboratory.intrinsic+json": {
              "type": "string"
            }
          },
          "metadata": {}
        },
        {
          "output_type": "stream",
          "name": "stdout",
          "text": [
            "--------------------------------------------------\n",
            "Original Label : abnormal\n",
            "Predicted Label: normal\n",
            "Classification : Wrong 👎\n",
            "\n",
            "SUMMARY:\n",
            "==================================================\n",
            "\n",
            "Analyzed 1 reports\n",
            "Correct predictions: 0\n",
            "Accuracy: 0.0%\n",
            "\n"
          ]
        }
      ]
    },
    {
      "cell_type": "markdown",
      "source": [
        "### Testing Classification in Multiple Reports to measure performance"
      ],
      "metadata": {
        "id": "qfcCWv-RLjJW"
      }
    },
    {
      "cell_type": "code",
      "source": [
        "results = classify_multiple_reports(df, n_reports=10, template=zero_shot_prompt_template, seed=44)\n",
        "\n",
        "display_results(results, show_original_label=True)"
      ],
      "metadata": {
        "colab": {
          "base_uri": "https://localhost:8080/",
          "height": 1000
        },
        "id": "xMocZs02Ligb",
        "outputId": "e6ea5cec-42c8-431e-dff2-a632b3b91767"
      },
      "execution_count": 7,
      "outputs": [
        {
          "output_type": "stream",
          "name": "stderr",
          "text": [
            "Classifying reports: 100%|██████████| 10/10 [00:05<00:00,  1.89it/s]"
          ]
        },
        {
          "output_type": "stream",
          "name": "stdout",
          "text": [
            "\n",
            "Report #1673:\n",
            "==================================================\n",
            "Report text:\n"
          ]
        },
        {
          "output_type": "stream",
          "name": "stderr",
          "text": [
            "\n"
          ]
        },
        {
          "output_type": "display_data",
          "data": {
            "text/plain": [
              "'Both lungs are clear and expanded. Heart and mediastinum normal.'"
            ],
            "application/vnd.google.colaboratory.intrinsic+json": {
              "type": "string"
            }
          },
          "metadata": {}
        },
        {
          "output_type": "stream",
          "name": "stdout",
          "text": [
            "--------------------------------------------------\n",
            "Original Label : normal\n",
            "Predicted Label: normal\n",
            "Classification : Correct ✅\n",
            "\n",
            "\n",
            "Report #2130:\n",
            "==================================================\n",
            "Report text:\n"
          ]
        },
        {
          "output_type": "display_data",
          "data": {
            "text/plain": [
              "'Lungs are clear bilaterally. Cardiac and mediastinal silhouettes are normal. Pulmonary vasculature is normal. No pneumothorax or pleural effusion. No acute bony abnormality.'"
            ],
            "application/vnd.google.colaboratory.intrinsic+json": {
              "type": "string"
            }
          },
          "metadata": {}
        },
        {
          "output_type": "stream",
          "name": "stdout",
          "text": [
            "--------------------------------------------------\n",
            "Original Label : normal\n",
            "Predicted Label: normal\n",
            "Classification : Correct ✅\n",
            "\n",
            "\n",
            "Report #2219:\n",
            "==================================================\n",
            "Report text:\n"
          ]
        },
        {
          "output_type": "display_data",
          "data": {
            "text/plain": [
              "'Redemonstration of azygos lobe. Redemonstrated left perihilar nodular opacity, similar in size from previous examination. Dense appearing, may be granulomatous. The trachea is midline. Negative for pneumothorax, pleural effusion or focal airspace consolidation. The heart size is normal. XXXX. Limited exam, for evaluation of fractures. However, no evidence for displaced rib fracture.'"
            ],
            "application/vnd.google.colaboratory.intrinsic+json": {
              "type": "string"
            }
          },
          "metadata": {}
        },
        {
          "output_type": "stream",
          "name": "stdout",
          "text": [
            "--------------------------------------------------\n",
            "Original Label : abnormal\n",
            "Predicted Label: abnormal\n",
            "Classification : Correct ✅\n",
            "\n",
            "\n",
            "Report #2873:\n",
            "==================================================\n",
            "Report text:\n"
          ]
        },
        {
          "output_type": "display_data",
          "data": {
            "text/plain": [
              "'Heart size normal. Lungs are clear. XXXX are normal. No pneumonia, effusions, edema, pneumothorax, adenopathy, nodules or masses.'"
            ],
            "application/vnd.google.colaboratory.intrinsic+json": {
              "type": "string"
            }
          },
          "metadata": {}
        },
        {
          "output_type": "stream",
          "name": "stdout",
          "text": [
            "--------------------------------------------------\n",
            "Original Label : normal\n",
            "Predicted Label: normal\n",
            "Classification : Correct ✅\n",
            "\n",
            "\n",
            "Report #477:\n",
            "==================================================\n",
            "Report text:\n"
          ]
        },
        {
          "output_type": "display_data",
          "data": {
            "text/plain": [
              "'Both lungs are clear and expanded. Heart and mediastinum normal.'"
            ],
            "application/vnd.google.colaboratory.intrinsic+json": {
              "type": "string"
            }
          },
          "metadata": {}
        },
        {
          "output_type": "stream",
          "name": "stdout",
          "text": [
            "--------------------------------------------------\n",
            "Original Label : normal\n",
            "Predicted Label: normal\n",
            "Classification : Correct ✅\n",
            "\n",
            "\n",
            "Report #723:\n",
            "==================================================\n",
            "Report text:\n"
          ]
        },
        {
          "output_type": "display_data",
          "data": {
            "text/plain": [
              "'The lungs are clear bilaterally. Specifically, no evidence of focal consolidation, pneumothorax, or pleural effusion.. Scattered calcified granulomas noted. Cardio mediastinal silhouette is unremarkable. Visualized osseous structures of the thorax demonstrate mild multilevel degenerative disc disease of the thoracolumbar spine without acute abnormality.'"
            ],
            "application/vnd.google.colaboratory.intrinsic+json": {
              "type": "string"
            }
          },
          "metadata": {}
        },
        {
          "output_type": "stream",
          "name": "stdout",
          "text": [
            "--------------------------------------------------\n",
            "Original Label : abnormal\n",
            "Predicted Label: normal\n",
            "Classification : Wrong 👎\n",
            "\n",
            "\n",
            "Report #1554:\n",
            "==================================================\n",
            "Report text:\n"
          ]
        },
        {
          "output_type": "display_data",
          "data": {
            "text/plain": [
              "'The lungs are clear, and without focal airspace opacity. The cardiomediastinal silhouette is normal in size and contour, and stable. There is no pneumothorax or large pleural effusion. XXXX foreign body in the posterior soft tissues appear stable.'"
            ],
            "application/vnd.google.colaboratory.intrinsic+json": {
              "type": "string"
            }
          },
          "metadata": {}
        },
        {
          "output_type": "stream",
          "name": "stdout",
          "text": [
            "--------------------------------------------------\n",
            "Original Label : abnormal\n",
            "Predicted Label: normal\n",
            "Classification : Wrong 👎\n",
            "\n",
            "\n",
            "Report #922:\n",
            "==================================================\n",
            "Report text:\n"
          ]
        },
        {
          "output_type": "display_data",
          "data": {
            "text/plain": [
              "'XXXX XXXX and lateral chest examination was obtained. The heart silhouette is normal in size and contour. Aortic XXXX appear unremarkable. Lungs demonstrate no acute findings. There is no effusion or pneumothorax. Bilateral prominent lung vascularity medially, unchanged.'"
            ],
            "application/vnd.google.colaboratory.intrinsic+json": {
              "type": "string"
            }
          },
          "metadata": {}
        },
        {
          "output_type": "stream",
          "name": "stdout",
          "text": [
            "--------------------------------------------------\n",
            "Original Label : abnormal\n",
            "Predicted Label: normal\n",
            "Classification : Wrong 👎\n",
            "\n",
            "\n",
            "Report #1186:\n",
            "==================================================\n",
            "Report text:\n"
          ]
        },
        {
          "output_type": "display_data",
          "data": {
            "text/plain": [
              "'There are XXXX sternotomy XXXX identified. The heart is within normal limits in size. The aorta is calcified and tortuous. There are scattered calcified granulomas throughout both lungs. No focal infiltrate, pleural effusion, or pneumothorax. Mild degenerative changes of the thoracic spine.'"
            ],
            "application/vnd.google.colaboratory.intrinsic+json": {
              "type": "string"
            }
          },
          "metadata": {}
        },
        {
          "output_type": "stream",
          "name": "stdout",
          "text": [
            "--------------------------------------------------\n",
            "Original Label : abnormal\n",
            "Predicted Label: abnormal\n",
            "Classification : Correct ✅\n",
            "\n",
            "\n",
            "Report #119:\n",
            "==================================================\n",
            "Report text:\n"
          ]
        },
        {
          "output_type": "display_data",
          "data": {
            "text/plain": [
              "'Mild hypoventilation with bronchovascular crowding and prominent central and basilar interstitial markings. No focal alveolar consolidation, no pleural effusion demonstrated. Considering technical factors heart size XXXX within normal limits.'"
            ],
            "application/vnd.google.colaboratory.intrinsic+json": {
              "type": "string"
            }
          },
          "metadata": {}
        },
        {
          "output_type": "stream",
          "name": "stdout",
          "text": [
            "--------------------------------------------------\n",
            "Original Label : abnormal\n",
            "Predicted Label: abnormal\n",
            "Classification : Correct ✅\n",
            "\n",
            "SUMMARY:\n",
            "==================================================\n",
            "\n",
            "Analyzed 10 reports\n",
            "Correct predictions: 7\n",
            "Accuracy: 70.0%\n",
            "\n"
          ]
        }
      ]
    },
    {
      "cell_type": "markdown",
      "source": [
        "## 2. Few-Shot Classification\n",
        "\n",
        "Zero-shot classification may not always be accurate. To enhance performance, we use **few-shot prompting**, where the model is provided with a few labeled examples to improve its accuracy.\n",
        "\n",
        "### How It Works:\n",
        "**Prompt Template:**  \n",
        "- The `{examples}` placeholder contains relevant instances of abnormalities.\n",
        "- The `{report}` placeholder is replaced with an actual chest X-ray report.\n",
        "- The model is instructed to classify a report as **abnormal** if it contains specific **findings**."
      ],
      "metadata": {
        "id": "ebiLxukC5k3q"
      }
    },
    {
      "cell_type": "code",
      "source": [
        "few_show_template = \"\"\"\n",
        "### INSTRUCTION\n",
        "You are a specialist in chest X-ray reports.\n",
        "Your task is to classify a report as abnormal if it describes signs of {looking_for}, such as:\n",
        "{examples}\n",
        "Consider the finding positive even if it is mild.\n",
        "If multiple X-rays are reported together, focus only on the chest X-ray report.\n",
        "Your response should be in JSON format with the key 'classification' and the possible values: 'normal' or 'abnormal'.\n",
        "\n",
        "### REPORT TO CLASSIFY\n",
        "{report}\n",
        "\"\"\"\n",
        "\n",
        "looking_for = 'any abnormalities'\n",
        "\n",
        "examples = \"\"\"\n",
        "- Low or high lung volume.\n",
        "- Abnormalities in the lungs, bones, heart, mediastinum, or pleura.\n",
        "- Abnormal calcifications, granulomas, or calcified lymph nodes.\n",
        "- Post-surgical changes overlying the axilla, neck, or abdominal regions.\n",
        "- Presence of surgical or closure devices.\n",
        "- Presence of hiatal hernia even if small.\n",
        "- Part of the lung was not evaluated.\n",
        "\"\"\"\n",
        "\n",
        "\n",
        "print(f\"\\n{looking_for.capitalize()} Classifier\")\n",
        "print(f\"Examples: {examples}\")\n",
        "\n",
        "seed=42\n",
        "results = classify_multiple_reports(df, n_reports=10,\n",
        "                                    template=few_show_template,\n",
        "                                    looking_for=looking_for,\n",
        "                                    examples=examples,\n",
        "                                    seed=seed)\n",
        "\n",
        "display_results(results, show_original_label=True)"
      ],
      "metadata": {
        "colab": {
          "base_uri": "https://localhost:8080/",
          "height": 1000
        },
        "id": "D605KDra5xWA",
        "outputId": "7c97315d-7a9f-4974-916d-d0ae4fa09882"
      },
      "execution_count": 13,
      "outputs": [
        {
          "output_type": "stream",
          "name": "stdout",
          "text": [
            "\n",
            "Any abnormalities Classifier\n",
            "Examples: \n",
            "- Low or high lung volume.\n",
            "- Abnormalities in the lungs, bones, heart, mediastinum, or pleura.\n",
            "- Abnormal calcifications, granulomas, or calcified lymph nodes.\n",
            "- Post-surgical changes overlying the axilla, neck, or abdominal regions.\n",
            "- Presence of surgical or closure devices.\n",
            "- Presence of hiatal hernia even if small.\n",
            "- Part of the lung was not evaluated.\n",
            "\n"
          ]
        },
        {
          "output_type": "stream",
          "name": "stderr",
          "text": [
            "Classifying reports: 100%|██████████| 10/10 [00:05<00:00,  1.67it/s]"
          ]
        },
        {
          "output_type": "stream",
          "name": "stdout",
          "text": [
            "\n",
            "Report #2619:\n",
            "==================================================\n",
            "Report text:\n"
          ]
        },
        {
          "output_type": "stream",
          "name": "stderr",
          "text": [
            "\n"
          ]
        },
        {
          "output_type": "display_data",
          "data": {
            "text/plain": [
              "'Cardiac and mediastinal contours are within normal limits. The lungs are clear. Bony structures are intact. Small hiatal hernia.'"
            ],
            "application/vnd.google.colaboratory.intrinsic+json": {
              "type": "string"
            }
          },
          "metadata": {}
        },
        {
          "output_type": "stream",
          "name": "stdout",
          "text": [
            "--------------------------------------------------\n",
            "Original Label : abnormal\n",
            "Predicted Label: abnormal\n",
            "Classification : Correct ✅\n",
            "\n",
            "\n",
            "Report #456:\n",
            "==================================================\n",
            "Report text:\n"
          ]
        },
        {
          "output_type": "display_data",
          "data": {
            "text/plain": [
              "'The cardiomediastinal silhouette is normal in size and contour. No focal consolidation, pneumothorax or large pleural effusion. Negative for acute bone abnormality.'"
            ],
            "application/vnd.google.colaboratory.intrinsic+json": {
              "type": "string"
            }
          },
          "metadata": {}
        },
        {
          "output_type": "stream",
          "name": "stdout",
          "text": [
            "--------------------------------------------------\n",
            "Original Label : normal\n",
            "Predicted Label: normal\n",
            "Classification : Correct ✅\n",
            "\n",
            "\n",
            "Report #102:\n",
            "==================================================\n",
            "Report text:\n"
          ]
        },
        {
          "output_type": "display_data",
          "data": {
            "text/plain": [
              "'The heart is normal in size. The pulmonary vascularity is within normal limits in appearance. No pneumothorax or pleural effusion. A wedge-shaped opacity has developed in the right upper lobe. There is also XXXX patchy opacification identified in the left upper lobe. No acute bony abnormality.'"
            ],
            "application/vnd.google.colaboratory.intrinsic+json": {
              "type": "string"
            }
          },
          "metadata": {}
        },
        {
          "output_type": "stream",
          "name": "stdout",
          "text": [
            "--------------------------------------------------\n",
            "Original Label : abnormal\n",
            "Predicted Label: abnormal\n",
            "Classification : Correct ✅\n",
            "\n",
            "\n",
            "Report #3037:\n",
            "==================================================\n",
            "Report text:\n"
          ]
        },
        {
          "output_type": "display_data",
          "data": {
            "text/plain": [
              "'There is mild XXXX opacification over both XXXX, XXXX secondary to soft tissue attenuation. There are no focal air space opacities. No pleural effusion or pneumothorax. Cardiomediastinal silhouette is within normal limits. Trachea is midline. No free subdiaphragmatic air.'"
            ],
            "application/vnd.google.colaboratory.intrinsic+json": {
              "type": "string"
            }
          },
          "metadata": {}
        },
        {
          "output_type": "stream",
          "name": "stdout",
          "text": [
            "--------------------------------------------------\n",
            "Original Label : abnormal\n",
            "Predicted Label: abnormal\n",
            "Classification : Correct ✅\n",
            "\n",
            "\n",
            "Report #1126:\n",
            "==================================================\n",
            "Report text:\n"
          ]
        },
        {
          "output_type": "display_data",
          "data": {
            "text/plain": [
              "'The lungs are clear bilaterally. Specifically, no evidence of focal consolidation, pneumothorax, or pleural effusion.. Cardio mediastinal silhouette is unremarkable. Visualized osseous structures of the thorax are without acute abnormality.'"
            ],
            "application/vnd.google.colaboratory.intrinsic+json": {
              "type": "string"
            }
          },
          "metadata": {}
        },
        {
          "output_type": "stream",
          "name": "stdout",
          "text": [
            "--------------------------------------------------\n",
            "Original Label : normal\n",
            "Predicted Label: normal\n",
            "Classification : Correct ✅\n",
            "\n",
            "\n",
            "Report #1003:\n",
            "==================================================\n",
            "Report text:\n"
          ]
        },
        {
          "output_type": "display_data",
          "data": {
            "text/plain": [
              "'Three images are available for review. The heart size is normal. The mediastinal contour is within normal limits. The lungs are free of any focal infiltrates. There are no nodules or masses. No visible pneumothorax. No visible pleural fluid. The XXXX are grossly normal. There is no visible free intraperitoneal air under the diaphragm.'"
            ],
            "application/vnd.google.colaboratory.intrinsic+json": {
              "type": "string"
            }
          },
          "metadata": {}
        },
        {
          "output_type": "stream",
          "name": "stdout",
          "text": [
            "--------------------------------------------------\n",
            "Original Label : normal\n",
            "Predicted Label: normal\n",
            "Classification : Correct ✅\n",
            "\n",
            "\n",
            "Report #914:\n",
            "==================================================\n",
            "Report text:\n"
          ]
        },
        {
          "output_type": "display_data",
          "data": {
            "text/plain": [
              "'Cardiomediastinal silhouette is within normal limits in overall size and appearance. Central vascular markings are symmetric and within normal limits. The lungs are normally inflated with no focal airspace disease, pleural effusion, or pneumothorax. No acute bone abnormality.'"
            ],
            "application/vnd.google.colaboratory.intrinsic+json": {
              "type": "string"
            }
          },
          "metadata": {}
        },
        {
          "output_type": "stream",
          "name": "stdout",
          "text": [
            "--------------------------------------------------\n",
            "Original Label : normal\n",
            "Predicted Label: normal\n",
            "Classification : Correct ✅\n",
            "\n",
            "\n",
            "Report #571:\n",
            "==================================================\n",
            "Report text:\n"
          ]
        },
        {
          "output_type": "display_data",
          "data": {
            "text/plain": [
              "'Normal heart and mediastinum. Clear lungs. Trachea is midline. No pneumothorax. No pleural effusion. Radiopaque foreign body overlying left chest.'"
            ],
            "application/vnd.google.colaboratory.intrinsic+json": {
              "type": "string"
            }
          },
          "metadata": {}
        },
        {
          "output_type": "stream",
          "name": "stdout",
          "text": [
            "--------------------------------------------------\n",
            "Original Label : abnormal\n",
            "Predicted Label: abnormal\n",
            "Classification : Correct ✅\n",
            "\n",
            "\n",
            "Report #3016:\n",
            "==================================================\n",
            "Report text:\n"
          ]
        },
        {
          "output_type": "display_data",
          "data": {
            "text/plain": [
              "'There is a subtle left medial base opacity. Cardiomediastinal silhouette is normal. Pulmonary vasculature and XXXX are normal. No pneumothorax or large pleural effusion. Osseous structures and soft tissues are normal.'"
            ],
            "application/vnd.google.colaboratory.intrinsic+json": {
              "type": "string"
            }
          },
          "metadata": {}
        },
        {
          "output_type": "stream",
          "name": "stdout",
          "text": [
            "--------------------------------------------------\n",
            "Original Label : abnormal\n",
            "Predicted Label: abnormal\n",
            "Classification : Correct ✅\n",
            "\n",
            "\n",
            "Report #419:\n",
            "==================================================\n",
            "Report text:\n"
          ]
        },
        {
          "output_type": "display_data",
          "data": {
            "text/plain": [
              "'No focal consolidation, suspicious pulmonary opacity or definite pleural effusion. Heart size and pulmonary vascularity within normal limits. Stable mediastinal contour. Calcified hilar lymph XXXX. Visualized osseous structures unremarkable.'"
            ],
            "application/vnd.google.colaboratory.intrinsic+json": {
              "type": "string"
            }
          },
          "metadata": {}
        },
        {
          "output_type": "stream",
          "name": "stdout",
          "text": [
            "--------------------------------------------------\n",
            "Original Label : abnormal\n",
            "Predicted Label: normal\n",
            "Classification : Wrong 👎\n",
            "\n",
            "SUMMARY:\n",
            "==================================================\n",
            "\n",
            "Analyzed 10 reports\n",
            "Correct predictions: 9\n",
            "Accuracy: 90.0%\n",
            "\n"
          ]
        }
      ]
    },
    {
      "cell_type": "markdown",
      "source": [
        "## 3. Condition-Specific Classification\n",
        "\n",
        "In some cases, you may need to classify reports based on specific medical conditions rather than general abnormalities.\n",
        "\n",
        "### How It Works:\n",
        "**Prompt Template:**  \n",
        "- The `{looking_for}` placeholder specifies the condition to be detected (e.g., cardiomegaly, COPD).\n",
        "- The `{examples}` placeholder contains key indicators related to the condition.\n",
        "- The model classifies the report as **\"present\"** or **\"absent\"** based on the findings.\n",
        "\n",
        "### Example: Cardiomegaly Detection\n",
        "- **Signs of Cardiomegaly:**\n",
        "  - Increased heart size\n",
        "  - Enlarged cardiac silhouette\n",
        "  - Increased cardiomediastinal silhouette"
      ],
      "metadata": {
        "id": "UUut9R0XdV_I"
      }
    },
    {
      "cell_type": "code",
      "source": [
        "finding_specific_template = \"\"\"\n",
        "### INSTRUCTION\n",
        "You are a specialist in chest X-ray reports.\n",
        "Your task is to classify a report as positive if it describes signs of {looking_for}, such as:\n",
        "{examples}\n",
        "Consider the finding positive even if it is mild.\n",
        "Your response should be in JSON format with the key 'classification' and the possible values: 'present' or 'absent'.\n",
        "\n",
        "### REPORT TO CLASSIFY\n",
        "{report}\n",
        "\"\"\"\n",
        "\n",
        "looking_for = 'cardiomegaly'\n",
        "\n",
        "examples = \"\"\"\n",
        "- Increased heart size.\n",
        "- Enlarged cardiac silhouette.\n",
        "- Increased cardiomediastinal silhouette.\n",
        "\"\"\"\n",
        "\n",
        "print(f\"\\n{looking_for.capitalize()} Detection\")\n",
        "print(f\"Examples: {examples}\")\n",
        "\n",
        "\n",
        "results = classify_multiple_reports(df,\n",
        "                                    n_reports=10,\n",
        "                                    template=finding_specific_template,\n",
        "                                    looking_for=looking_for,\n",
        "                                    examples=examples,\n",
        "                                    seed=45)\n",
        "\n",
        "display_results(results, show_original_label=False)"
      ],
      "metadata": {
        "colab": {
          "base_uri": "https://localhost:8080/",
          "height": 1000
        },
        "outputId": "1f33af57-9726-4d9f-f475-4a35d3f3d764",
        "id": "X38XwG9JdkdJ"
      },
      "execution_count": 9,
      "outputs": [
        {
          "output_type": "stream",
          "name": "stdout",
          "text": [
            "\n",
            "Cardiomegaly Detection\n",
            "Examples: \n",
            "- Increased heart size.\n",
            "- Enlarged cardiac silhouette.\n",
            "- Increased cardiomediastinal silhouette.\n",
            "\n"
          ]
        },
        {
          "output_type": "stream",
          "name": "stderr",
          "text": [
            "Classifying reports: 100%|██████████| 10/10 [00:05<00:00,  1.88it/s]"
          ]
        },
        {
          "output_type": "stream",
          "name": "stdout",
          "text": [
            "\n",
            "Report #1113:\n",
            "==================================================\n",
            "Report text:\n"
          ]
        },
        {
          "output_type": "stream",
          "name": "stderr",
          "text": [
            "\n"
          ]
        },
        {
          "output_type": "display_data",
          "data": {
            "text/plain": [
              "'Heart size appears enlarged. Mediastinal contours are within normal limits. Lung volumes are low with central bronchovascular crowding and patchy basilar atelectasis.. Osseous structures are within normal limits for patient age.'"
            ],
            "application/vnd.google.colaboratory.intrinsic+json": {
              "type": "string"
            }
          },
          "metadata": {}
        },
        {
          "output_type": "stream",
          "name": "stdout",
          "text": [
            "--------------------------------------------------\n",
            "Finding: present ✅\n",
            "\n",
            "\n",
            "Report #1710:\n",
            "==================================================\n",
            "Report text:\n"
          ]
        },
        {
          "output_type": "display_data",
          "data": {
            "text/plain": [
              "'The cardiomediastinal silhouette is normal in size and contour. Negative for effusion, pneumothorax, or focal airspace consolidation. The lungs are normally aerated.'"
            ],
            "application/vnd.google.colaboratory.intrinsic+json": {
              "type": "string"
            }
          },
          "metadata": {}
        },
        {
          "output_type": "stream",
          "name": "stdout",
          "text": [
            "--------------------------------------------------\n",
            "Finding: absent 👎\n",
            "\n",
            "\n",
            "Report #1998:\n",
            "==================================================\n",
            "Report text:\n"
          ]
        },
        {
          "output_type": "display_data",
          "data": {
            "text/plain": [
              "'Both lungs remain clear and expanded. No focal parenchymal infiltrates or pleural air collections. Heart and aorta are normal. No change in the large hiatus hernia. Pelvis. Bone density is decreased. Hips are normal and symmetric. No fractures, dislocations, or bone destruction. Note XXXX of a severe rotatory dextroscoliosis in the lumbar spine.'"
            ],
            "application/vnd.google.colaboratory.intrinsic+json": {
              "type": "string"
            }
          },
          "metadata": {}
        },
        {
          "output_type": "stream",
          "name": "stdout",
          "text": [
            "--------------------------------------------------\n",
            "Finding: absent 👎\n",
            "\n",
            "\n",
            "Report #1055:\n",
            "==================================================\n",
            "Report text:\n"
          ]
        },
        {
          "output_type": "display_data",
          "data": {
            "text/plain": [
              "'The heart and mediastinum are unremarkable. The lungs are clear without infiltrate. There is no effusion or pneumothorax.'"
            ],
            "application/vnd.google.colaboratory.intrinsic+json": {
              "type": "string"
            }
          },
          "metadata": {}
        },
        {
          "output_type": "stream",
          "name": "stdout",
          "text": [
            "--------------------------------------------------\n",
            "Finding: absent 👎\n",
            "\n",
            "\n",
            "Report #335:\n",
            "==================================================\n",
            "Report text:\n"
          ]
        },
        {
          "output_type": "display_data",
          "data": {
            "text/plain": [
              "'Normal cardiac contours. No pleural effusion or pneumothorax. Bilateral lower lobe bronchial thickening consistent with bronchitis.'"
            ],
            "application/vnd.google.colaboratory.intrinsic+json": {
              "type": "string"
            }
          },
          "metadata": {}
        },
        {
          "output_type": "stream",
          "name": "stdout",
          "text": [
            "--------------------------------------------------\n",
            "Finding: absent 👎\n",
            "\n",
            "\n",
            "Report #1241:\n",
            "==================================================\n",
            "Report text:\n"
          ]
        },
        {
          "output_type": "display_data",
          "data": {
            "text/plain": [
              "'Cardiomediastinal silhouettes are within normal limits. Lungs are clear without focal consolidation, pneumothorax, or pleural effusion. Bony thorax is unremarkable.'"
            ],
            "application/vnd.google.colaboratory.intrinsic+json": {
              "type": "string"
            }
          },
          "metadata": {}
        },
        {
          "output_type": "stream",
          "name": "stdout",
          "text": [
            "--------------------------------------------------\n",
            "Finding: absent 👎\n",
            "\n",
            "\n",
            "Report #1387:\n",
            "==================================================\n",
            "Report text:\n"
          ]
        },
        {
          "output_type": "display_data",
          "data": {
            "text/plain": [
              "'The XXXX examination consists of frontal and lateral radiographs of the chest. The cardiomediastinal contours are within normal limits. Pulmonary vascularity is within normal limits. No focal consolidation, pleural effusion, or pneumothorax identified. Multilevel degenerative changes are seen throughout the thoracic spine. XXXX anchors XXXX over the left humeral head. There is mild bilateral acromioclavicular joint osteoarthritis. Visualized upper abdomen is grossly unremarkable in appearance.'"
            ],
            "application/vnd.google.colaboratory.intrinsic+json": {
              "type": "string"
            }
          },
          "metadata": {}
        },
        {
          "output_type": "stream",
          "name": "stdout",
          "text": [
            "--------------------------------------------------\n",
            "Finding: absent 👎\n",
            "\n",
            "\n",
            "Report #88:\n",
            "==================================================\n",
            "Report text:\n"
          ]
        },
        {
          "output_type": "display_data",
          "data": {
            "text/plain": [
              "'Moderate bilateral interstitial edema, with cardiomegaly and bilateral effusion consistent with moderate cardiac failure. A large calcified right mediastinal adenopathy, XXXX chronic fungal. No pneumothorax.'"
            ],
            "application/vnd.google.colaboratory.intrinsic+json": {
              "type": "string"
            }
          },
          "metadata": {}
        },
        {
          "output_type": "stream",
          "name": "stdout",
          "text": [
            "--------------------------------------------------\n",
            "Finding: present ✅\n",
            "\n",
            "\n",
            "Report #296:\n",
            "==================================================\n",
            "Report text:\n"
          ]
        },
        {
          "output_type": "display_data",
          "data": {
            "text/plain": [
              "'Heart size normal. Lungs XXXX clear. XXXX XXXX normal. No pneumonia, effusions, edema, pneumothorax, adenopathy, nodules or masses.'"
            ],
            "application/vnd.google.colaboratory.intrinsic+json": {
              "type": "string"
            }
          },
          "metadata": {}
        },
        {
          "output_type": "stream",
          "name": "stdout",
          "text": [
            "--------------------------------------------------\n",
            "Finding: absent 👎\n",
            "\n",
            "\n",
            "Report #1983:\n",
            "==================================================\n",
            "Report text:\n"
          ]
        },
        {
          "output_type": "display_data",
          "data": {
            "text/plain": [
              "'The heart size is within normal limits. There are calcified hilar lymph XXXX bilaterally. There are bibasilar airspace opacities with small bilateral pleural effusions, left greater than right. No pneumothorax. No acute bony abnormalities.'"
            ],
            "application/vnd.google.colaboratory.intrinsic+json": {
              "type": "string"
            }
          },
          "metadata": {}
        },
        {
          "output_type": "stream",
          "name": "stdout",
          "text": [
            "--------------------------------------------------\n",
            "Finding: absent 👎\n",
            "\n",
            "SUMMARY:\n",
            "==================================================\n",
            "\n",
            "Analyzed 10 reports\n"
          ]
        }
      ]
    },
    {
      "cell_type": "markdown",
      "source": [
        "# Create Your Own Specialized Classifier! 🚀\n",
        "\n",
        "You can create a custom classifier for any specific condition by following these steps:\n",
        "\n",
        "1. **Define the condition** you want to detect (e.g., COPD, pleural effusion).\n",
        "2. **Specify key indicators** associated with the condition.\n",
        "3. **Modify the template** to reflect the new condition and findings.\n",
        "4. **Run the model** to classify reports based on your selected condition.\n",
        "\n",
        "### Example: COPD Detection\n",
        "- **Signs of COPD:**\n",
        "  - Hyperinflated lungs\n",
        "  - Flattened diaphragm\n",
        "  - Increased retrosternal airspace\n",
        "  - Narrowed cardiac silhouette\n",
        "  - Emphysematous changes\n"
      ],
      "metadata": {
        "id": "tAM9hP486YF6"
      }
    },
    {
      "cell_type": "code",
      "source": [
        "finding_specific_template = \"\"\"\n",
        "### INSTRUCTION\n",
        "You are a specialist in chest X-ray reports.\n",
        "Your task is to classify a report as positive if it describes signs of {looking_for}, such as:\n",
        "{examples}\n",
        "Consider the finding positive even if it is mild.\n",
        "Your response should be in JSON format with the key 'classification' and the possible values: 'present' or 'absent'.\n",
        "\n",
        "### REPORT TO CLASSIFY\n",
        "{report}\n",
        "\"\"\"\n",
        "\n",
        "looking_for = \"COPD (Chronic Obstructive Pulmonary Disease)\"\n",
        "\n",
        "examples = \"\"\"\n",
        "- Hyperinflated lungs.\n",
        "- Flattened diaphragm.\n",
        "- Increased retrosternal airspace.\n",
        "- Narrowed cardiac silhouette.\n",
        "- Emphysematous changes.\n",
        "\"\"\"\n",
        "\n",
        "print(f\"\\n{looking_for.capitalize()} Detection\")\n",
        "print(f\"Examples: {examples}\")\n",
        "\n",
        "\n",
        "results = classify_multiple_reports(df,\n",
        "                                    n_reports=10,\n",
        "                                    template=finding_specific_template,\n",
        "                                    looking_for=looking_for,\n",
        "                                    examples=examples,\n",
        "                                    seed=43)\n",
        "\n",
        "display_results(results, show_original_label=False)"
      ],
      "metadata": {
        "id": "Vl69b67G6XZ_",
        "outputId": "7dd7901b-83ed-4071-a11b-2f187c16b708",
        "colab": {
          "base_uri": "https://localhost:8080/",
          "height": 1000
        }
      },
      "execution_count": 10,
      "outputs": [
        {
          "output_type": "stream",
          "name": "stdout",
          "text": [
            "\n",
            "Copd (chronic obstructive pulmonary disease) Detection\n",
            "Examples: \n",
            "- Hyperinflated lungs.\n",
            "- Flattened diaphragm.\n",
            "- Increased retrosternal airspace.\n",
            "- Narrowed cardiac silhouette.\n",
            "- Emphysematous changes.\n",
            "\n"
          ]
        },
        {
          "output_type": "stream",
          "name": "stderr",
          "text": [
            "Classifying reports: 100%|██████████| 10/10 [00:05<00:00,  1.88it/s]"
          ]
        },
        {
          "output_type": "stream",
          "name": "stdout",
          "text": [
            "\n",
            "Report #157:\n",
            "==================================================\n",
            "Report text:\n"
          ]
        },
        {
          "output_type": "stream",
          "name": "stderr",
          "text": [
            "\n"
          ]
        },
        {
          "output_type": "display_data",
          "data": {
            "text/plain": [
              "'The cardiomediastinal silhouette and pulmonary vasculature are within normal limits in size. Dual-XXXX cardiac pacing device is in XXXX, stable position with leads projecting over the right atrium and right ventricle. The lungs are clear of focal airspace disease, pneumothorax, or pleural effusion. There are no acute bony findings.'"
            ],
            "application/vnd.google.colaboratory.intrinsic+json": {
              "type": "string"
            }
          },
          "metadata": {}
        },
        {
          "output_type": "stream",
          "name": "stdout",
          "text": [
            "--------------------------------------------------\n",
            "Finding: absent 👎\n",
            "\n",
            "\n",
            "Report #1171:\n",
            "==================================================\n",
            "Report text:\n"
          ]
        },
        {
          "output_type": "display_data",
          "data": {
            "text/plain": [
              "'Stable left-sided ICD and postsurgical changes consistent with prior CABG. The cardiomediastinal silhouette and vasculature are within normal limits for size and contour. The lungs are normally inflated and clear. Mild degenerative endplate changes of the spine.'"
            ],
            "application/vnd.google.colaboratory.intrinsic+json": {
              "type": "string"
            }
          },
          "metadata": {}
        },
        {
          "output_type": "stream",
          "name": "stdout",
          "text": [
            "--------------------------------------------------\n",
            "Finding: absent 👎\n",
            "\n",
            "\n",
            "Report #2851:\n",
            "==================================================\n",
            "Report text:\n"
          ]
        },
        {
          "output_type": "display_data",
          "data": {
            "text/plain": [
              "'There are no focal areas of consolidation. No suspicious pulmonary opacities. Heart size within normal limits. No pleural effusions. No evidence of pneumothorax. Osseous structures intact.'"
            ],
            "application/vnd.google.colaboratory.intrinsic+json": {
              "type": "string"
            }
          },
          "metadata": {}
        },
        {
          "output_type": "stream",
          "name": "stdout",
          "text": [
            "--------------------------------------------------\n",
            "Finding: absent 👎\n",
            "\n",
            "\n",
            "Report #3123:\n",
            "==================================================\n",
            "Report text:\n"
          ]
        },
        {
          "output_type": "display_data",
          "data": {
            "text/plain": [
              "'The heart size is stable. The aorta is ectatic and atherosclerotic but stable. XXXX sternotomy XXXX are again noted. The scarring in the left lower lobe is again noted and unchanged from prior exam. There are mild bilateral prominent lung interstitial opacities consistent with emphysematous disease. The calcified granulomas are stable.'"
            ],
            "application/vnd.google.colaboratory.intrinsic+json": {
              "type": "string"
            }
          },
          "metadata": {}
        },
        {
          "output_type": "stream",
          "name": "stdout",
          "text": [
            "--------------------------------------------------\n",
            "Finding: present ✅\n",
            "\n",
            "\n",
            "Report #589:\n",
            "==================================================\n",
            "Report text:\n"
          ]
        },
        {
          "output_type": "display_data",
          "data": {
            "text/plain": [
              "'Lungs are hyperexpanded. Bullae are present in the upper lobes. No focal infiltrates. Heart size normal.'"
            ],
            "application/vnd.google.colaboratory.intrinsic+json": {
              "type": "string"
            }
          },
          "metadata": {}
        },
        {
          "output_type": "stream",
          "name": "stdout",
          "text": [
            "--------------------------------------------------\n",
            "Finding: present ✅\n",
            "\n",
            "\n",
            "Report #1894:\n",
            "==================================================\n",
            "Report text:\n"
          ]
        },
        {
          "output_type": "display_data",
          "data": {
            "text/plain": [
              "'Normal heart size. Left chest XXXX tip mid SVC. Right axillary surgical clips. Stable pleural based nodule left mid chest. No acute pulmonary findings.'"
            ],
            "application/vnd.google.colaboratory.intrinsic+json": {
              "type": "string"
            }
          },
          "metadata": {}
        },
        {
          "output_type": "stream",
          "name": "stdout",
          "text": [
            "--------------------------------------------------\n",
            "Finding: absent 👎\n",
            "\n",
            "\n",
            "Report #1515:\n",
            "==================================================\n",
            "Report text:\n"
          ]
        },
        {
          "output_type": "display_data",
          "data": {
            "text/plain": [
              "'Lungs are clear bilaterally. Cardiac and mediastinal silhouettes are normal. Pulmonary vasculature is normal. No pneumothorax or pleural effusion. No acute bony abnormality.'"
            ],
            "application/vnd.google.colaboratory.intrinsic+json": {
              "type": "string"
            }
          },
          "metadata": {}
        },
        {
          "output_type": "stream",
          "name": "stdout",
          "text": [
            "--------------------------------------------------\n",
            "Finding: absent 👎\n",
            "\n",
            "\n",
            "Report #2751:\n",
            "==================================================\n",
            "Report text:\n"
          ]
        },
        {
          "output_type": "display_data",
          "data": {
            "text/plain": [
              "'Heart size, mediastinal contour, and pulmonary vascularity are within normal limits. No focal consolidation, suspicious pulmonary opacity, large pleural effusion, or pneumothorax is identified. There is a rounded lucency seen above the diaphragm on lateral view, suggestive of small hiatal hernia. Visualized osseous structures appear intact. Degenerative changes of the thoracic spine seen.'"
            ],
            "application/vnd.google.colaboratory.intrinsic+json": {
              "type": "string"
            }
          },
          "metadata": {}
        },
        {
          "output_type": "stream",
          "name": "stdout",
          "text": [
            "--------------------------------------------------\n",
            "Finding: absent 👎\n",
            "\n",
            "\n",
            "Report #2860:\n",
            "==================================================\n",
            "Report text:\n"
          ]
        },
        {
          "output_type": "display_data",
          "data": {
            "text/plain": [
              "'The cardiomediastinal silhouette and pulmonary vasculature are within normal limits. There is no pneumothorax or pleural effusion. There are no focal areas of consolidation. Small T-spine osteophytes.'"
            ],
            "application/vnd.google.colaboratory.intrinsic+json": {
              "type": "string"
            }
          },
          "metadata": {}
        },
        {
          "output_type": "stream",
          "name": "stdout",
          "text": [
            "--------------------------------------------------\n",
            "Finding: absent 👎\n",
            "\n",
            "\n",
            "Report #3247:\n",
            "==================================================\n",
            "Report text:\n"
          ]
        },
        {
          "output_type": "display_data",
          "data": {
            "text/plain": [
              "'The heart is normal in size. The mediastinum is unremarkable. XXXX XXXX opacities in right mid lung. The lungs are otherwise grossly clear.'"
            ],
            "application/vnd.google.colaboratory.intrinsic+json": {
              "type": "string"
            }
          },
          "metadata": {}
        },
        {
          "output_type": "stream",
          "name": "stdout",
          "text": [
            "--------------------------------------------------\n",
            "Finding: absent 👎\n",
            "\n",
            "SUMMARY:\n",
            "==================================================\n",
            "\n",
            "Analyzed 10 reports\n"
          ]
        }
      ]
    },
    {
      "cell_type": "markdown",
      "source": [
        "# Conclusion & Next Steps 📌\n",
        "\n",
        "Through this notebook, we've explored how **prompt engineering** enhances the classification of radiology reports using LLMs.\n",
        "\n",
        "### Key Takeaways:\n",
        "✅ **Zero-shot prompting** enables classification without prior examples.  \n",
        "✅ **Few-shot prompting** improves accuracy by providing labeled examples.  \n",
        "✅ **Condition-specific classification** allows targeted detection of medical conditions.  \n",
        "\n",
        "### What’s Next?\n",
        "Now that you understand the fundamentals, here are some next steps:\n",
        "1. **Test additional conditions** by modifying the `{looking_for}` and `{examples}` variables.\n",
        "2. **Experiment with different LLM models** to compare performance.\n",
        "3. **Refine your prompts** to improve classification accuracy.\n",
        "4. **Apply real-world datasets** to validate the model in clinical settings.\n",
        "\n",
        "By leveraging **LLMs and prompt engineering**, we can enhance efficiency in **radiology report classification**, aiding medical professionals in making informed decisions. 🏥💡\n",
        "\n",
        "---\n",
        "\n",
        "### Acknowledgment  \n",
        "This project utilizes an **open-access chest X-ray collection** from **Indiana University**, sourced from the **OpenI repository** ([OpenI](https://openi.nlm.nih.gov/)). We acknowledge and appreciate the efforts of the dataset creators in making this valuable resource available for research and analysis.\n",
        "\n",
        "---\n",
        "\n",
        "### Credits\n",
        "This notebook is adapted from work by **Paulo Kuriki** and **Felipe Kitamura**.\n",
        "\n"
      ],
      "metadata": {
        "id": "S-HzYkVcq4H-"
      }
    },
    {
      "cell_type": "code",
      "source": [],
      "metadata": {
        "id": "Rx3CrCQ25tKg"
      },
      "execution_count": 10,
      "outputs": []
    }
  ]
}